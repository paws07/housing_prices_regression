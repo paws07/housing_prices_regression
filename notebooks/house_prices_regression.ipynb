{
 "cells": [
  {
   "cell_type": "markdown",
   "id": "f46022c2",
   "metadata": {},
   "source": [
    "# Model"
   ]
  },
  {
   "cell_type": "code",
   "execution_count": 1,
   "id": "fc4e7b46",
   "metadata": {
    "ExecuteTime": {
     "end_time": "2023-03-03T19:14:19.770613Z",
     "start_time": "2023-03-03T19:14:14.274495Z"
    }
   },
   "outputs": [
    {
     "name": "stderr",
     "output_type": "stream",
     "text": [
      "C:\\ProgramData\\Anaconda3\\lib\\site-packages\\dask\\dataframe\\utils.py:369: FutureWarning: pandas.Int64Index is deprecated and will be removed from pandas in a future version. Use pandas.Index with the appropriate dtype instead.\n",
      "  _numeric_index_types = (pd.Int64Index, pd.Float64Index, pd.UInt64Index)\n",
      "C:\\ProgramData\\Anaconda3\\lib\\site-packages\\dask\\dataframe\\utils.py:369: FutureWarning: pandas.Float64Index is deprecated and will be removed from pandas in a future version. Use pandas.Index with the appropriate dtype instead.\n",
      "  _numeric_index_types = (pd.Int64Index, pd.Float64Index, pd.UInt64Index)\n",
      "C:\\ProgramData\\Anaconda3\\lib\\site-packages\\dask\\dataframe\\utils.py:369: FutureWarning: pandas.UInt64Index is deprecated and will be removed from pandas in a future version. Use pandas.Index with the appropriate dtype instead.\n",
      "  _numeric_index_types = (pd.Int64Index, pd.Float64Index, pd.UInt64Index)\n"
     ]
    }
   ],
   "source": [
    "import pandas as pd\n",
    "import numpy as np\n",
    "import matplotlib.pyplot as plt\n",
    "import seaborn as sns\n",
    "import datetime\n",
    "from pprint import pprint\n",
    "\n",
    "import lightgbm as lgb\n",
    "import optuna.integration.lightgbm as opt_lgb\n",
    "import scikitplot as skplt\n",
    "import joblib\n",
    "\n",
    "from sklearn.model_selection import train_test_split, cross_val_score, GridSearchCV\n",
    "from sklearn.tree import DecisionTreeRegressor, plot_tree\n",
    "from sklearn.ensemble import RandomForestRegressor\n",
    "from sklearn.metrics import mean_squared_error, r2_score, mean_absolute_percentage_error\n",
    "from sklearn.inspection import permutation_importance"
   ]
  },
  {
   "cell_type": "code",
   "execution_count": 3,
   "id": "e0a72f06",
   "metadata": {
    "ExecuteTime": {
     "end_time": "2023-03-03T03:37:09.999844Z",
     "start_time": "2023-03-03T03:37:09.955009Z"
    }
   },
   "outputs": [
    {
     "name": "stdout",
     "output_type": "stream",
     "text": [
      "Python implementation: CPython\n",
      "Python version       : 3.8.8\n",
      "IPython version      : 7.22.0\n",
      "\n",
      "numpy   : 1.23.5\n",
      "sklearn : 1.2.0\n",
      "lightgbm: 3.3.2\n",
      "pandas  : 1.4.3\n",
      "seaborn : 0.12.2\n",
      "\n",
      "Compiler    : MSC v.1916 64 bit (AMD64)\n",
      "OS          : Windows\n",
      "Release     : 10\n",
      "Machine     : AMD64\n",
      "Processor   : Intel64 Family 6 Model 140 Stepping 1, GenuineIntel\n",
      "CPU cores   : 8\n",
      "Architecture: 64bit\n",
      "\n"
     ]
    }
   ],
   "source": [
    "%load_ext watermark\n",
    "%watermark -v -n -m -p numpy,sklearn,lightgbm,pandas,seaborn"
   ]
  },
  {
   "cell_type": "code",
   "execution_count": 4,
   "id": "492cd60a",
   "metadata": {
    "ExecuteTime": {
     "end_time": "2023-03-03T03:37:10.062808Z",
     "start_time": "2023-03-03T03:37:10.001164Z"
    }
   },
   "outputs": [],
   "source": [
    "# Import cleaned dataset\n",
    "prices = pd.read_parquet(r'..\\data\\processed\\training_cleaned_engineered.parquet')"
   ]
  },
  {
   "cell_type": "markdown",
   "id": "891fe193",
   "metadata": {},
   "source": [
    "Since we'll only be using decision trees (RF, LightGBM), we can simply use numeric categories as these models do not associate numeric data to be ordinal. We also do not need to check of collinearity given the model choice."
   ]
  },
  {
   "cell_type": "code",
   "execution_count": 5,
   "id": "5def45fa",
   "metadata": {
    "ExecuteTime": {
     "end_time": "2023-03-03T03:37:13.020964Z",
     "start_time": "2023-03-03T03:37:12.999385Z"
    }
   },
   "outputs": [],
   "source": [
    "## Alternately we can use dummy variables\n",
    "# prices_ohc = pd.get_dummies(prices.select_dtypes('category'))\\\n",
    "#                 .merge(prices.select_dtypes(exclude='category'), \n",
    "#                        left_index=True, \n",
    "#                        right_index=True)\n",
    "\n",
    "for col in prices.select_dtypes('category').columns:\n",
    "    prices[col] = prices[col].cat.codes"
   ]
  },
  {
   "cell_type": "code",
   "execution_count": 6,
   "id": "25644357",
   "metadata": {
    "ExecuteTime": {
     "end_time": "2023-03-03T03:37:14.392529Z",
     "start_time": "2023-03-03T03:37:14.365839Z"
    }
   },
   "outputs": [],
   "source": [
    "X_train, X_test, y_train, y_test = train_test_split(prices.drop('price', axis=1), \n",
    "                                                    prices['price'], \n",
    "                                                    test_size= 0.25,\n",
    "                                                    random_state=42)"
   ]
  },
  {
   "cell_type": "code",
   "execution_count": 7,
   "id": "46f99d4f",
   "metadata": {
    "ExecuteTime": {
     "end_time": "2023-03-03T03:37:14.779777Z",
     "start_time": "2023-03-03T03:37:14.752876Z"
    }
   },
   "outputs": [],
   "source": [
    "# Collect models and test metrics\n",
    "all_results = []\n",
    "\n",
    "def regression_metrics(model, \n",
    "                       model_name,\n",
    "                       collect=True):\n",
    "    \"\"\"Function to measure and store model metrics for X_test y_test,\n",
    "        for an updated model the name should have some variation\n",
    "    \"\"\"\n",
    "    model_params = {}\n",
    "    model_params['model_name'] = model_name\n",
    "    model_params['model'] = model\n",
    "    model_params['timestamp'] = str(datetime.datetime.now())\n",
    "    for dataset_type, scores in zip(['train', 'test'],\n",
    "                                [(y_train, model.predict(X_train)), \n",
    "                                 (y_test, model.predict(X_test))]):        \n",
    "        model_params[dataset_type] = {}\n",
    "        model_params[dataset_type]['R2 Score'] = r2_score(scores[0], scores[1])\n",
    "        model_params[dataset_type]['RMSE'] = np.sqrt(mean_squared_error(scores[0], scores[1]))\n",
    "        model_params[dataset_type]['MAPE'] = mean_absolute_percentage_error(scores[0], scores[1])\n",
    "        \n",
    "    pprint(model_params)\n",
    "    \n",
    "    if collect:\n",
    "        all_results.append(model_params)"
   ]
  },
  {
   "cell_type": "code",
   "execution_count": 8,
   "id": "e42fff46",
   "metadata": {
    "ExecuteTime": {
     "end_time": "2023-03-03T03:37:15.325815Z",
     "start_time": "2023-03-03T03:37:15.316373Z"
    }
   },
   "outputs": [],
   "source": [
    "def metrics():\n",
    "    \"\"\"Function to create a pretty dataframe out of metrics\"\"\"\n",
    "    # Create a model dataframe\n",
    "    model_df = pd.DataFrame(all_results)\n",
    "    model_df.columns = pd.MultiIndex.from_product([['Model'], model_df.columns]) # Add column\n",
    "    \n",
    "    if model_df.empty:\n",
    "        return 'No Metrics'\n",
    "    \n",
    "    for dataset in ['test', 'train']:\n",
    "        df = pd.DataFrame(all_results)[dataset].apply(pd.Series)\n",
    "        df.columns = pd.MultiIndex.from_product([[dataset], df.columns])\n",
    "        model_df = model_df.merge(df, \n",
    "                                  left_index=True, \n",
    "                                  right_index=True)\n",
    "        #display(model_df)\n",
    "    cm = sns.light_palette(\"seagreen\", \n",
    "                           reverse=True, \n",
    "                           as_cmap=10)\n",
    "#     model_df.set_index(('Model','model_name'), inplace=True)\n",
    "#     model_df.index.rename('Model Name', inplace=True)\n",
    "    return model_df.drop(['train', 'test'], axis=1, level=1).drop_duplicates(subset=[('Model', 'model_name'), ('Model','timestamp')]).style.background_gradient(cmap=cm)"
   ]
  },
  {
   "cell_type": "markdown",
   "id": "410fcf77",
   "metadata": {},
   "source": [
    "## Train and Plot a Decision Tree"
   ]
  },
  {
   "cell_type": "code",
   "execution_count": 9,
   "id": "634b89b8",
   "metadata": {
    "ExecuteTime": {
     "end_time": "2023-03-03T03:37:17.892587Z",
     "start_time": "2023-03-03T03:37:17.832331Z"
    }
   },
   "outputs": [
    {
     "data": {
      "text/html": [
       "<style>#sk-container-id-1 {color: black;background-color: white;}#sk-container-id-1 pre{padding: 0;}#sk-container-id-1 div.sk-toggleable {background-color: white;}#sk-container-id-1 label.sk-toggleable__label {cursor: pointer;display: block;width: 100%;margin-bottom: 0;padding: 0.3em;box-sizing: border-box;text-align: center;}#sk-container-id-1 label.sk-toggleable__label-arrow:before {content: \"▸\";float: left;margin-right: 0.25em;color: #696969;}#sk-container-id-1 label.sk-toggleable__label-arrow:hover:before {color: black;}#sk-container-id-1 div.sk-estimator:hover label.sk-toggleable__label-arrow:before {color: black;}#sk-container-id-1 div.sk-toggleable__content {max-height: 0;max-width: 0;overflow: hidden;text-align: left;background-color: #f0f8ff;}#sk-container-id-1 div.sk-toggleable__content pre {margin: 0.2em;color: black;border-radius: 0.25em;background-color: #f0f8ff;}#sk-container-id-1 input.sk-toggleable__control:checked~div.sk-toggleable__content {max-height: 200px;max-width: 100%;overflow: auto;}#sk-container-id-1 input.sk-toggleable__control:checked~label.sk-toggleable__label-arrow:before {content: \"▾\";}#sk-container-id-1 div.sk-estimator input.sk-toggleable__control:checked~label.sk-toggleable__label {background-color: #d4ebff;}#sk-container-id-1 div.sk-label input.sk-toggleable__control:checked~label.sk-toggleable__label {background-color: #d4ebff;}#sk-container-id-1 input.sk-hidden--visually {border: 0;clip: rect(1px 1px 1px 1px);clip: rect(1px, 1px, 1px, 1px);height: 1px;margin: -1px;overflow: hidden;padding: 0;position: absolute;width: 1px;}#sk-container-id-1 div.sk-estimator {font-family: monospace;background-color: #f0f8ff;border: 1px dotted black;border-radius: 0.25em;box-sizing: border-box;margin-bottom: 0.5em;}#sk-container-id-1 div.sk-estimator:hover {background-color: #d4ebff;}#sk-container-id-1 div.sk-parallel-item::after {content: \"\";width: 100%;border-bottom: 1px solid gray;flex-grow: 1;}#sk-container-id-1 div.sk-label:hover label.sk-toggleable__label {background-color: #d4ebff;}#sk-container-id-1 div.sk-serial::before {content: \"\";position: absolute;border-left: 1px solid gray;box-sizing: border-box;top: 0;bottom: 0;left: 50%;z-index: 0;}#sk-container-id-1 div.sk-serial {display: flex;flex-direction: column;align-items: center;background-color: white;padding-right: 0.2em;padding-left: 0.2em;position: relative;}#sk-container-id-1 div.sk-item {position: relative;z-index: 1;}#sk-container-id-1 div.sk-parallel {display: flex;align-items: stretch;justify-content: center;background-color: white;position: relative;}#sk-container-id-1 div.sk-item::before, #sk-container-id-1 div.sk-parallel-item::before {content: \"\";position: absolute;border-left: 1px solid gray;box-sizing: border-box;top: 0;bottom: 0;left: 50%;z-index: -1;}#sk-container-id-1 div.sk-parallel-item {display: flex;flex-direction: column;z-index: 1;position: relative;background-color: white;}#sk-container-id-1 div.sk-parallel-item:first-child::after {align-self: flex-end;width: 50%;}#sk-container-id-1 div.sk-parallel-item:last-child::after {align-self: flex-start;width: 50%;}#sk-container-id-1 div.sk-parallel-item:only-child::after {width: 0;}#sk-container-id-1 div.sk-dashed-wrapped {border: 1px dashed gray;margin: 0 0.4em 0.5em 0.4em;box-sizing: border-box;padding-bottom: 0.4em;background-color: white;}#sk-container-id-1 div.sk-label label {font-family: monospace;font-weight: bold;display: inline-block;line-height: 1.2em;}#sk-container-id-1 div.sk-label-container {text-align: center;}#sk-container-id-1 div.sk-container {/* jupyter's `normalize.less` sets `[hidden] { display: none; }` but bootstrap.min.css set `[hidden] { display: none !important; }` so we also need the `!important` here to be able to override the default hidden behavior on the sphinx rendered scikit-learn.org. See: https://github.com/scikit-learn/scikit-learn/issues/21755 */display: inline-block !important;position: relative;}#sk-container-id-1 div.sk-text-repr-fallback {display: none;}</style><div id=\"sk-container-id-1\" class=\"sk-top-container\"><div class=\"sk-text-repr-fallback\"><pre>DecisionTreeRegressor()</pre><b>In a Jupyter environment, please rerun this cell to show the HTML representation or trust the notebook. <br />On GitHub, the HTML representation is unable to render, please try loading this page with nbviewer.org.</b></div><div class=\"sk-container\" hidden><div class=\"sk-item\"><div class=\"sk-estimator sk-toggleable\"><input class=\"sk-toggleable__control sk-hidden--visually\" id=\"sk-estimator-id-1\" type=\"checkbox\" checked><label for=\"sk-estimator-id-1\" class=\"sk-toggleable__label sk-toggleable__label-arrow\">DecisionTreeRegressor</label><div class=\"sk-toggleable__content\"><pre>DecisionTreeRegressor()</pre></div></div></div></div></div>"
      ],
      "text/plain": [
       "DecisionTreeRegressor()"
      ]
     },
     "execution_count": 9,
     "metadata": {},
     "output_type": "execute_result"
    }
   ],
   "source": [
    "dt_reg = DecisionTreeRegressor()\n",
    "dt_reg.fit(X_train, \n",
    "           y_train)"
   ]
  },
  {
   "cell_type": "code",
   "execution_count": 10,
   "id": "7b69d8d6",
   "metadata": {
    "ExecuteTime": {
     "end_time": "2023-03-03T03:37:19.583953Z",
     "start_time": "2023-03-03T03:37:19.564426Z"
    }
   },
   "outputs": [
    {
     "name": "stdout",
     "output_type": "stream",
     "text": [
      "{'model': DecisionTreeRegressor(),\n",
      " 'model_name': 'Decision Tree',\n",
      " 'test': {'MAPE': 0.13552425379829233,\n",
      "          'R2 Score': 0.7128687904188071,\n",
      "          'RMSE': 41686.855769051625},\n",
      " 'timestamp': '2023-03-02 20:37:19.565429',\n",
      " 'train': {'MAPE': 2.617310864038917e-05,\n",
      "           'R2 Score': 0.9999980087748153,\n",
      "           'RMSE': 113.33091920928732}}\n"
     ]
    }
   ],
   "source": [
    "# Out of bag score will be used as the minimum for the model\n",
    "regression_metrics(dt_reg, 'Decision Tree')"
   ]
  },
  {
   "cell_type": "code",
   "execution_count": 12,
   "id": "e87e7b89",
   "metadata": {
    "ExecuteTime": {
     "end_time": "2023-03-03T03:37:30.289073Z",
     "start_time": "2023-03-03T03:37:30.281505Z"
    }
   },
   "outputs": [],
   "source": [
    "# plot_tree(dt_reg, feature_names=['Quality', 'Area'], impurity=False)"
   ]
  },
  {
   "cell_type": "markdown",
   "id": "f4a804ba",
   "metadata": {
    "ExecuteTime": {
     "end_time": "2023-02-21T00:08:55.609222Z",
     "start_time": "2023-02-21T00:08:55.591604Z"
    }
   },
   "source": [
    "## Random Forest Regression"
   ]
  },
  {
   "cell_type": "code",
   "execution_count": 13,
   "id": "950a012a",
   "metadata": {
    "ExecuteTime": {
     "end_time": "2023-03-03T03:38:13.386231Z",
     "start_time": "2023-03-03T03:38:12.674556Z"
    }
   },
   "outputs": [
    {
     "data": {
      "text/html": [
       "<style>#sk-container-id-2 {color: black;background-color: white;}#sk-container-id-2 pre{padding: 0;}#sk-container-id-2 div.sk-toggleable {background-color: white;}#sk-container-id-2 label.sk-toggleable__label {cursor: pointer;display: block;width: 100%;margin-bottom: 0;padding: 0.3em;box-sizing: border-box;text-align: center;}#sk-container-id-2 label.sk-toggleable__label-arrow:before {content: \"▸\";float: left;margin-right: 0.25em;color: #696969;}#sk-container-id-2 label.sk-toggleable__label-arrow:hover:before {color: black;}#sk-container-id-2 div.sk-estimator:hover label.sk-toggleable__label-arrow:before {color: black;}#sk-container-id-2 div.sk-toggleable__content {max-height: 0;max-width: 0;overflow: hidden;text-align: left;background-color: #f0f8ff;}#sk-container-id-2 div.sk-toggleable__content pre {margin: 0.2em;color: black;border-radius: 0.25em;background-color: #f0f8ff;}#sk-container-id-2 input.sk-toggleable__control:checked~div.sk-toggleable__content {max-height: 200px;max-width: 100%;overflow: auto;}#sk-container-id-2 input.sk-toggleable__control:checked~label.sk-toggleable__label-arrow:before {content: \"▾\";}#sk-container-id-2 div.sk-estimator input.sk-toggleable__control:checked~label.sk-toggleable__label {background-color: #d4ebff;}#sk-container-id-2 div.sk-label input.sk-toggleable__control:checked~label.sk-toggleable__label {background-color: #d4ebff;}#sk-container-id-2 input.sk-hidden--visually {border: 0;clip: rect(1px 1px 1px 1px);clip: rect(1px, 1px, 1px, 1px);height: 1px;margin: -1px;overflow: hidden;padding: 0;position: absolute;width: 1px;}#sk-container-id-2 div.sk-estimator {font-family: monospace;background-color: #f0f8ff;border: 1px dotted black;border-radius: 0.25em;box-sizing: border-box;margin-bottom: 0.5em;}#sk-container-id-2 div.sk-estimator:hover {background-color: #d4ebff;}#sk-container-id-2 div.sk-parallel-item::after {content: \"\";width: 100%;border-bottom: 1px solid gray;flex-grow: 1;}#sk-container-id-2 div.sk-label:hover label.sk-toggleable__label {background-color: #d4ebff;}#sk-container-id-2 div.sk-serial::before {content: \"\";position: absolute;border-left: 1px solid gray;box-sizing: border-box;top: 0;bottom: 0;left: 50%;z-index: 0;}#sk-container-id-2 div.sk-serial {display: flex;flex-direction: column;align-items: center;background-color: white;padding-right: 0.2em;padding-left: 0.2em;position: relative;}#sk-container-id-2 div.sk-item {position: relative;z-index: 1;}#sk-container-id-2 div.sk-parallel {display: flex;align-items: stretch;justify-content: center;background-color: white;position: relative;}#sk-container-id-2 div.sk-item::before, #sk-container-id-2 div.sk-parallel-item::before {content: \"\";position: absolute;border-left: 1px solid gray;box-sizing: border-box;top: 0;bottom: 0;left: 50%;z-index: -1;}#sk-container-id-2 div.sk-parallel-item {display: flex;flex-direction: column;z-index: 1;position: relative;background-color: white;}#sk-container-id-2 div.sk-parallel-item:first-child::after {align-self: flex-end;width: 50%;}#sk-container-id-2 div.sk-parallel-item:last-child::after {align-self: flex-start;width: 50%;}#sk-container-id-2 div.sk-parallel-item:only-child::after {width: 0;}#sk-container-id-2 div.sk-dashed-wrapped {border: 1px dashed gray;margin: 0 0.4em 0.5em 0.4em;box-sizing: border-box;padding-bottom: 0.4em;background-color: white;}#sk-container-id-2 div.sk-label label {font-family: monospace;font-weight: bold;display: inline-block;line-height: 1.2em;}#sk-container-id-2 div.sk-label-container {text-align: center;}#sk-container-id-2 div.sk-container {/* jupyter's `normalize.less` sets `[hidden] { display: none; }` but bootstrap.min.css set `[hidden] { display: none !important; }` so we also need the `!important` here to be able to override the default hidden behavior on the sphinx rendered scikit-learn.org. See: https://github.com/scikit-learn/scikit-learn/issues/21755 */display: inline-block !important;position: relative;}#sk-container-id-2 div.sk-text-repr-fallback {display: none;}</style><div id=\"sk-container-id-2\" class=\"sk-top-container\"><div class=\"sk-text-repr-fallback\"><pre>RandomForestRegressor(n_jobs=-1, oob_score=True, random_state=42)</pre><b>In a Jupyter environment, please rerun this cell to show the HTML representation or trust the notebook. <br />On GitHub, the HTML representation is unable to render, please try loading this page with nbviewer.org.</b></div><div class=\"sk-container\" hidden><div class=\"sk-item\"><div class=\"sk-estimator sk-toggleable\"><input class=\"sk-toggleable__control sk-hidden--visually\" id=\"sk-estimator-id-2\" type=\"checkbox\" checked><label for=\"sk-estimator-id-2\" class=\"sk-toggleable__label sk-toggleable__label-arrow\">RandomForestRegressor</label><div class=\"sk-toggleable__content\"><pre>RandomForestRegressor(n_jobs=-1, oob_score=True, random_state=42)</pre></div></div></div></div></div>"
      ],
      "text/plain": [
       "RandomForestRegressor(n_jobs=-1, oob_score=True, random_state=42)"
      ]
     },
     "execution_count": 13,
     "metadata": {},
     "output_type": "execute_result"
    }
   ],
   "source": [
    "randomf_reg = RandomForestRegressor(random_state=42,\n",
    "                                      oob_score=True,\n",
    "                                      n_jobs=-1)\n",
    "randomf_reg.fit(X_train, y_train)"
   ]
  },
  {
   "cell_type": "code",
   "execution_count": 14,
   "id": "923ccd95",
   "metadata": {
    "ExecuteTime": {
     "end_time": "2023-03-03T03:38:14.105559Z",
     "start_time": "2023-03-03T03:38:14.036385Z"
    }
   },
   "outputs": [
    {
     "name": "stdout",
     "output_type": "stream",
     "text": [
      "0.8863250281647154 \n",
      "\n",
      "{'model': RandomForestRegressor(n_jobs=-1, oob_score=True, random_state=42),\n",
      " 'model_name': 'Random Forest Regression',\n",
      " 'test': {'MAPE': 0.08645636457230998,\n",
      "          'R2 Score': 0.866963462204083,\n",
      "          'RMSE': 28375.557731905883},\n",
      " 'timestamp': '2023-03-02 20:38:14.038386',\n",
      " 'train': {'MAPE': 0.03668910608412481,\n",
      "           'R2 Score': 0.984526179698846,\n",
      "           'RMSE': 9990.494787111083}}\n"
     ]
    }
   ],
   "source": [
    "# Out of bag score will be used as the minimum for the model\n",
    "print(randomf_reg.oob_score_, '\\n')\n",
    "regression_metrics(randomf_reg, 'Random Forest Regression')"
   ]
  },
  {
   "cell_type": "code",
   "execution_count": 15,
   "id": "3cd11f30",
   "metadata": {
    "ExecuteTime": {
     "end_time": "2023-03-03T03:38:17.743699Z",
     "start_time": "2023-03-03T03:38:17.630495Z"
    }
   },
   "outputs": [
    {
     "data": {
      "text/html": [
       "<style type=\"text/css\">\n",
       "#T_c4242_row0_col3, #T_c4242_row0_col7, #T_c4242_row0_col8, #T_c4242_row1_col4, #T_c4242_row1_col5, #T_c4242_row1_col6 {\n",
       "  background-color: #2e8b57;\n",
       "  color: #f1f1f1;\n",
       "}\n",
       "#T_c4242_row0_col4, #T_c4242_row0_col5, #T_c4242_row0_col6, #T_c4242_row1_col3, #T_c4242_row1_col7, #T_c4242_row1_col8 {\n",
       "  background-color: #ebf3ed;\n",
       "  color: #000000;\n",
       "}\n",
       "</style>\n",
       "<table id=\"T_c4242\">\n",
       "  <thead>\n",
       "    <tr>\n",
       "      <th class=\"blank level0\" >&nbsp;</th>\n",
       "      <th id=\"T_c4242_level0_col0\" class=\"col_heading level0 col0\" colspan=\"3\">Model</th>\n",
       "      <th id=\"T_c4242_level0_col3\" class=\"col_heading level0 col3\" colspan=\"3\">test</th>\n",
       "      <th id=\"T_c4242_level0_col6\" class=\"col_heading level0 col6\" colspan=\"3\">train</th>\n",
       "    </tr>\n",
       "    <tr>\n",
       "      <th class=\"blank level1\" >&nbsp;</th>\n",
       "      <th id=\"T_c4242_level1_col0\" class=\"col_heading level1 col0\" >model_name</th>\n",
       "      <th id=\"T_c4242_level1_col1\" class=\"col_heading level1 col1\" >model</th>\n",
       "      <th id=\"T_c4242_level1_col2\" class=\"col_heading level1 col2\" >timestamp</th>\n",
       "      <th id=\"T_c4242_level1_col3\" class=\"col_heading level1 col3\" >R2 Score</th>\n",
       "      <th id=\"T_c4242_level1_col4\" class=\"col_heading level1 col4\" >RMSE</th>\n",
       "      <th id=\"T_c4242_level1_col5\" class=\"col_heading level1 col5\" >MAPE</th>\n",
       "      <th id=\"T_c4242_level1_col6\" class=\"col_heading level1 col6\" >R2 Score</th>\n",
       "      <th id=\"T_c4242_level1_col7\" class=\"col_heading level1 col7\" >RMSE</th>\n",
       "      <th id=\"T_c4242_level1_col8\" class=\"col_heading level1 col8\" >MAPE</th>\n",
       "    </tr>\n",
       "  </thead>\n",
       "  <tbody>\n",
       "    <tr>\n",
       "      <th id=\"T_c4242_level0_row0\" class=\"row_heading level0 row0\" >0</th>\n",
       "      <td id=\"T_c4242_row0_col0\" class=\"data row0 col0\" >Decision Tree</td>\n",
       "      <td id=\"T_c4242_row0_col1\" class=\"data row0 col1\" >DecisionTreeRegressor()</td>\n",
       "      <td id=\"T_c4242_row0_col2\" class=\"data row0 col2\" >2023-03-02 20:37:19.565429</td>\n",
       "      <td id=\"T_c4242_row0_col3\" class=\"data row0 col3\" >0.712869</td>\n",
       "      <td id=\"T_c4242_row0_col4\" class=\"data row0 col4\" >41686.855769</td>\n",
       "      <td id=\"T_c4242_row0_col5\" class=\"data row0 col5\" >0.135524</td>\n",
       "      <td id=\"T_c4242_row0_col6\" class=\"data row0 col6\" >0.999998</td>\n",
       "      <td id=\"T_c4242_row0_col7\" class=\"data row0 col7\" >113.330919</td>\n",
       "      <td id=\"T_c4242_row0_col8\" class=\"data row0 col8\" >0.000026</td>\n",
       "    </tr>\n",
       "    <tr>\n",
       "      <th id=\"T_c4242_level0_row1\" class=\"row_heading level0 row1\" >1</th>\n",
       "      <td id=\"T_c4242_row1_col0\" class=\"data row1 col0\" >Random Forest Regression</td>\n",
       "      <td id=\"T_c4242_row1_col1\" class=\"data row1 col1\" >RandomForestRegressor(n_jobs=-1, oob_score=True, random_state=42)</td>\n",
       "      <td id=\"T_c4242_row1_col2\" class=\"data row1 col2\" >2023-03-02 20:38:14.038386</td>\n",
       "      <td id=\"T_c4242_row1_col3\" class=\"data row1 col3\" >0.866963</td>\n",
       "      <td id=\"T_c4242_row1_col4\" class=\"data row1 col4\" >28375.557732</td>\n",
       "      <td id=\"T_c4242_row1_col5\" class=\"data row1 col5\" >0.086456</td>\n",
       "      <td id=\"T_c4242_row1_col6\" class=\"data row1 col6\" >0.984526</td>\n",
       "      <td id=\"T_c4242_row1_col7\" class=\"data row1 col7\" >9990.494787</td>\n",
       "      <td id=\"T_c4242_row1_col8\" class=\"data row1 col8\" >0.036689</td>\n",
       "    </tr>\n",
       "  </tbody>\n",
       "</table>\n"
      ],
      "text/plain": [
       "<pandas.io.formats.style.Styler at 0x1b479aded00>"
      ]
     },
     "execution_count": 15,
     "metadata": {},
     "output_type": "execute_result"
    }
   ],
   "source": [
    "metrics()"
   ]
  },
  {
   "cell_type": "code",
   "execution_count": 53,
   "id": "186ca72a",
   "metadata": {
    "ExecuteTime": {
     "end_time": "2023-03-02T03:39:10.074446Z",
     "start_time": "2023-03-02T03:39:10.068311Z"
    }
   },
   "outputs": [
    {
     "data": {
      "text/plain": [
       "{'bootstrap': True,\n",
       " 'ccp_alpha': 0.0,\n",
       " 'criterion': 'squared_error',\n",
       " 'max_depth': None,\n",
       " 'max_features': 1.0,\n",
       " 'max_leaf_nodes': None,\n",
       " 'max_samples': None,\n",
       " 'min_impurity_decrease': 0.0,\n",
       " 'min_samples_leaf': 1,\n",
       " 'min_samples_split': 2,\n",
       " 'min_weight_fraction_leaf': 0.0,\n",
       " 'n_estimators': 100,\n",
       " 'n_jobs': -1,\n",
       " 'oob_score': True,\n",
       " 'random_state': 42,\n",
       " 'verbose': 0,\n",
       " 'warm_start': False}"
      ]
     },
     "execution_count": 53,
     "metadata": {},
     "output_type": "execute_result"
    }
   ],
   "source": [
    "# Look at the random forest features to understand what should be tuned\n",
    "randomf_reg.get_params()"
   ]
  },
  {
   "cell_type": "code",
   "execution_count": 17,
   "id": "ed835342",
   "metadata": {
    "ExecuteTime": {
     "end_time": "2023-03-03T03:39:51.658126Z",
     "start_time": "2023-03-03T03:39:51.636836Z"
    }
   },
   "outputs": [],
   "source": [
    "param_grid = {\n",
    "    'max_depth': np.arange(20, 200, 50),\n",
    "    'max_features': ('sqrt', 'log2'),\n",
    "    'min_samples_leaf': np.arange(3, 8, 2),\n",
    "    'min_samples_split': np.arange(5, 15, 4),\n",
    "    'n_estimators': np.arange(100, 1000, 200)\n",
    "}\n",
    "\n",
    "rf_grid = GridSearchCV(estimator = randomf_reg,\n",
    "                       param_grid = param_grid,\n",
    "                       scoring = 'neg_root_mean_squared_error',\n",
    "                       cv = 3,\n",
    "                       n_jobs = -1)"
   ]
  },
  {
   "cell_type": "code",
   "execution_count": 18,
   "id": "01890523",
   "metadata": {
    "ExecuteTime": {
     "end_time": "2023-03-03T03:40:59.222210Z",
     "start_time": "2023-03-03T03:39:55.463570Z"
    }
   },
   "outputs": [
    {
     "data": {
      "text/html": [
       "<style>#sk-container-id-3 {color: black;background-color: white;}#sk-container-id-3 pre{padding: 0;}#sk-container-id-3 div.sk-toggleable {background-color: white;}#sk-container-id-3 label.sk-toggleable__label {cursor: pointer;display: block;width: 100%;margin-bottom: 0;padding: 0.3em;box-sizing: border-box;text-align: center;}#sk-container-id-3 label.sk-toggleable__label-arrow:before {content: \"▸\";float: left;margin-right: 0.25em;color: #696969;}#sk-container-id-3 label.sk-toggleable__label-arrow:hover:before {color: black;}#sk-container-id-3 div.sk-estimator:hover label.sk-toggleable__label-arrow:before {color: black;}#sk-container-id-3 div.sk-toggleable__content {max-height: 0;max-width: 0;overflow: hidden;text-align: left;background-color: #f0f8ff;}#sk-container-id-3 div.sk-toggleable__content pre {margin: 0.2em;color: black;border-radius: 0.25em;background-color: #f0f8ff;}#sk-container-id-3 input.sk-toggleable__control:checked~div.sk-toggleable__content {max-height: 200px;max-width: 100%;overflow: auto;}#sk-container-id-3 input.sk-toggleable__control:checked~label.sk-toggleable__label-arrow:before {content: \"▾\";}#sk-container-id-3 div.sk-estimator input.sk-toggleable__control:checked~label.sk-toggleable__label {background-color: #d4ebff;}#sk-container-id-3 div.sk-label input.sk-toggleable__control:checked~label.sk-toggleable__label {background-color: #d4ebff;}#sk-container-id-3 input.sk-hidden--visually {border: 0;clip: rect(1px 1px 1px 1px);clip: rect(1px, 1px, 1px, 1px);height: 1px;margin: -1px;overflow: hidden;padding: 0;position: absolute;width: 1px;}#sk-container-id-3 div.sk-estimator {font-family: monospace;background-color: #f0f8ff;border: 1px dotted black;border-radius: 0.25em;box-sizing: border-box;margin-bottom: 0.5em;}#sk-container-id-3 div.sk-estimator:hover {background-color: #d4ebff;}#sk-container-id-3 div.sk-parallel-item::after {content: \"\";width: 100%;border-bottom: 1px solid gray;flex-grow: 1;}#sk-container-id-3 div.sk-label:hover label.sk-toggleable__label {background-color: #d4ebff;}#sk-container-id-3 div.sk-serial::before {content: \"\";position: absolute;border-left: 1px solid gray;box-sizing: border-box;top: 0;bottom: 0;left: 50%;z-index: 0;}#sk-container-id-3 div.sk-serial {display: flex;flex-direction: column;align-items: center;background-color: white;padding-right: 0.2em;padding-left: 0.2em;position: relative;}#sk-container-id-3 div.sk-item {position: relative;z-index: 1;}#sk-container-id-3 div.sk-parallel {display: flex;align-items: stretch;justify-content: center;background-color: white;position: relative;}#sk-container-id-3 div.sk-item::before, #sk-container-id-3 div.sk-parallel-item::before {content: \"\";position: absolute;border-left: 1px solid gray;box-sizing: border-box;top: 0;bottom: 0;left: 50%;z-index: -1;}#sk-container-id-3 div.sk-parallel-item {display: flex;flex-direction: column;z-index: 1;position: relative;background-color: white;}#sk-container-id-3 div.sk-parallel-item:first-child::after {align-self: flex-end;width: 50%;}#sk-container-id-3 div.sk-parallel-item:last-child::after {align-self: flex-start;width: 50%;}#sk-container-id-3 div.sk-parallel-item:only-child::after {width: 0;}#sk-container-id-3 div.sk-dashed-wrapped {border: 1px dashed gray;margin: 0 0.4em 0.5em 0.4em;box-sizing: border-box;padding-bottom: 0.4em;background-color: white;}#sk-container-id-3 div.sk-label label {font-family: monospace;font-weight: bold;display: inline-block;line-height: 1.2em;}#sk-container-id-3 div.sk-label-container {text-align: center;}#sk-container-id-3 div.sk-container {/* jupyter's `normalize.less` sets `[hidden] { display: none; }` but bootstrap.min.css set `[hidden] { display: none !important; }` so we also need the `!important` here to be able to override the default hidden behavior on the sphinx rendered scikit-learn.org. See: https://github.com/scikit-learn/scikit-learn/issues/21755 */display: inline-block !important;position: relative;}#sk-container-id-3 div.sk-text-repr-fallback {display: none;}</style><div id=\"sk-container-id-3\" class=\"sk-top-container\"><div class=\"sk-text-repr-fallback\"><pre>GridSearchCV(cv=3,\n",
       "             estimator=RandomForestRegressor(n_jobs=-1, oob_score=True,\n",
       "                                             random_state=42),\n",
       "             n_jobs=-1,\n",
       "             param_grid={&#x27;max_depth&#x27;: [70, 100], &#x27;min_samples_leaf&#x27;: [3, 5],\n",
       "                         &#x27;min_samples_split&#x27;: [4, 6],\n",
       "                         &#x27;n_estimators&#x27;: [800, 100]},\n",
       "             scoring=&#x27;neg_root_mean_squared_error&#x27;)</pre><b>In a Jupyter environment, please rerun this cell to show the HTML representation or trust the notebook. <br />On GitHub, the HTML representation is unable to render, please try loading this page with nbviewer.org.</b></div><div class=\"sk-container\" hidden><div class=\"sk-item sk-dashed-wrapped\"><div class=\"sk-label-container\"><div class=\"sk-label sk-toggleable\"><input class=\"sk-toggleable__control sk-hidden--visually\" id=\"sk-estimator-id-3\" type=\"checkbox\" ><label for=\"sk-estimator-id-3\" class=\"sk-toggleable__label sk-toggleable__label-arrow\">GridSearchCV</label><div class=\"sk-toggleable__content\"><pre>GridSearchCV(cv=3,\n",
       "             estimator=RandomForestRegressor(n_jobs=-1, oob_score=True,\n",
       "                                             random_state=42),\n",
       "             n_jobs=-1,\n",
       "             param_grid={&#x27;max_depth&#x27;: [70, 100], &#x27;min_samples_leaf&#x27;: [3, 5],\n",
       "                         &#x27;min_samples_split&#x27;: [4, 6],\n",
       "                         &#x27;n_estimators&#x27;: [800, 100]},\n",
       "             scoring=&#x27;neg_root_mean_squared_error&#x27;)</pre></div></div></div><div class=\"sk-parallel\"><div class=\"sk-parallel-item\"><div class=\"sk-item\"><div class=\"sk-label-container\"><div class=\"sk-label sk-toggleable\"><input class=\"sk-toggleable__control sk-hidden--visually\" id=\"sk-estimator-id-4\" type=\"checkbox\" ><label for=\"sk-estimator-id-4\" class=\"sk-toggleable__label sk-toggleable__label-arrow\">estimator: RandomForestRegressor</label><div class=\"sk-toggleable__content\"><pre>RandomForestRegressor(n_jobs=-1, oob_score=True, random_state=42)</pre></div></div></div><div class=\"sk-serial\"><div class=\"sk-item\"><div class=\"sk-estimator sk-toggleable\"><input class=\"sk-toggleable__control sk-hidden--visually\" id=\"sk-estimator-id-5\" type=\"checkbox\" ><label for=\"sk-estimator-id-5\" class=\"sk-toggleable__label sk-toggleable__label-arrow\">RandomForestRegressor</label><div class=\"sk-toggleable__content\"><pre>RandomForestRegressor(n_jobs=-1, oob_score=True, random_state=42)</pre></div></div></div></div></div></div></div></div></div></div>"
      ],
      "text/plain": [
       "GridSearchCV(cv=3,\n",
       "             estimator=RandomForestRegressor(n_jobs=-1, oob_score=True,\n",
       "                                             random_state=42),\n",
       "             n_jobs=-1,\n",
       "             param_grid={'max_depth': [70, 100], 'min_samples_leaf': [3, 5],\n",
       "                         'min_samples_split': [4, 6],\n",
       "                         'n_estimators': [800, 100]},\n",
       "             scoring='neg_root_mean_squared_error')"
      ]
     },
     "execution_count": 18,
     "metadata": {},
     "output_type": "execute_result"
    }
   ],
   "source": [
    "rf_grid.fit(X_train, y_train)"
   ]
  },
  {
   "cell_type": "code",
   "execution_count": 20,
   "id": "92096394",
   "metadata": {
    "ExecuteTime": {
     "end_time": "2023-03-01T07:13:50.975154Z",
     "start_time": "2023-03-01T07:13:50.962104Z"
    }
   },
   "outputs": [
    {
     "data": {
      "text/plain": [
       "{'max_depth': 70,\n",
       " 'max_features': 'sqrt',\n",
       " 'min_samples_leaf': 3,\n",
       " 'min_samples_split': 5,\n",
       " 'n_estimators': 900}"
      ]
     },
     "execution_count": 20,
     "metadata": {},
     "output_type": "execute_result"
    }
   ],
   "source": [
    "rf_grid.best_params_"
   ]
  },
  {
   "cell_type": "code",
   "execution_count": 56,
   "id": "b0816b4c",
   "metadata": {
    "ExecuteTime": {
     "end_time": "2023-03-02T03:42:34.490487Z",
     "start_time": "2023-03-02T03:42:30.289256Z"
    }
   },
   "outputs": [
    {
     "data": {
      "text/plain": [
       "<AxesSubplot: title={'center': 'Learning Curve'}, xlabel='Training examples', ylabel='Score'>"
      ]
     },
     "execution_count": 56,
     "metadata": {},
     "output_type": "execute_result"
    },
    {
     "data": {
      "image/png": "[encoded data removed]",
      "text/plain": [
       "<Figure size 432x288 with 1 Axes>"
      ]
     },
     "metadata": {
      "needs_background": "light"
     },
     "output_type": "display_data"
    }
   ],
   "source": [
    "# A plot of the train and test learning curves for a classifier.\n",
    "skplt.estimators.plot_learning_curve(rf_grid.best_estimator_, \n",
    "                                     X_train, \n",
    "                                     y_train,\n",
    "                                     n_jobs=-1)"
   ]
  },
  {
   "cell_type": "code",
   "execution_count": 19,
   "id": "d8a4eb0b",
   "metadata": {
    "ExecuteTime": {
     "end_time": "2023-03-03T03:41:11.381117Z",
     "start_time": "2023-03-03T03:41:11.321320Z"
    }
   },
   "outputs": [
    {
     "name": "stdout",
     "output_type": "stream",
     "text": [
      "RandomForestRegressor(max_depth=70, min_samples_leaf=3, min_samples_split=4,\n",
      "                      n_jobs=-1, oob_score=True, random_state=42) \n",
      "\n",
      "{'model': RandomForestRegressor(max_depth=70, min_samples_leaf=3, min_samples_split=4,\n",
      "                      n_jobs=-1, oob_score=True, random_state=42),\n",
      " 'model_name': 'Random Forest Regression - Grid Search Tuned',\n",
      " 'test': {'MAPE': 0.08618557292207135,\n",
      "          'R2 Score': 0.8659191664255618,\n",
      "          'RMSE': 28486.70971810993},\n",
      " 'timestamp': '2023-03-02 20:41:11.324318',\n",
      " 'train': {'MAPE': 0.04994321571754982,\n",
      "           'R2 Score': 0.9671337282899479,\n",
      "           'RMSE': 14560.069354076828}}\n"
     ]
    }
   ],
   "source": [
    "# Out of bag score will be used as the minimum for the model\n",
    "print(rf_grid.best_estimator_, '\\n')\n",
    "regression_metrics(rf_grid.best_estimator_, 'Random Forest Regression - Grid Search Tuned')"
   ]
  },
  {
   "cell_type": "code",
   "execution_count": 20,
   "id": "37cc47ac",
   "metadata": {
    "ExecuteTime": {
     "end_time": "2023-03-03T03:41:13.650221Z",
     "start_time": "2023-03-03T03:41:13.614113Z"
    }
   },
   "outputs": [
    {
     "data": {
      "text/html": [
       "<style type=\"text/css\">\n",
       "#T_8a7b6_row0_col3, #T_8a7b6_row0_col7, #T_8a7b6_row0_col8, #T_8a7b6_row1_col4, #T_8a7b6_row2_col5, #T_8a7b6_row2_col6 {\n",
       "  background-color: #2e8b57;\n",
       "  color: #f1f1f1;\n",
       "}\n",
       "#T_8a7b6_row0_col4, #T_8a7b6_row0_col5, #T_8a7b6_row0_col6, #T_8a7b6_row1_col3, #T_8a7b6_row2_col7, #T_8a7b6_row2_col8 {\n",
       "  background-color: #ebf3ed;\n",
       "  color: #000000;\n",
       "}\n",
       "#T_8a7b6_row1_col5 {\n",
       "  background-color: #2f8b58;\n",
       "  color: #f1f1f1;\n",
       "}\n",
       "#T_8a7b6_row1_col6 {\n",
       "  background-color: #92c2a7;\n",
       "  color: #000000;\n",
       "}\n",
       "#T_8a7b6_row1_col7 {\n",
       "  background-color: #b0d2be;\n",
       "  color: #000000;\n",
       "}\n",
       "#T_8a7b6_row1_col8 {\n",
       "  background-color: #b9d7c6;\n",
       "  color: #000000;\n",
       "}\n",
       "#T_8a7b6_row2_col3 {\n",
       "  background-color: #eaf2ed;\n",
       "  color: #000000;\n",
       "}\n",
       "#T_8a7b6_row2_col4 {\n",
       "  background-color: #2f8c58;\n",
       "  color: #f1f1f1;\n",
       "}\n",
       "</style>\n",
       "<table id=\"T_8a7b6\">\n",
       "  <thead>\n",
       "    <tr>\n",
       "      <th class=\"blank level0\" >&nbsp;</th>\n",
       "      <th id=\"T_8a7b6_level0_col0\" class=\"col_heading level0 col0\" colspan=\"3\">Model</th>\n",
       "      <th id=\"T_8a7b6_level0_col3\" class=\"col_heading level0 col3\" colspan=\"3\">test</th>\n",
       "      <th id=\"T_8a7b6_level0_col6\" class=\"col_heading level0 col6\" colspan=\"3\">train</th>\n",
       "    </tr>\n",
       "    <tr>\n",
       "      <th class=\"blank level1\" >&nbsp;</th>\n",
       "      <th id=\"T_8a7b6_level1_col0\" class=\"col_heading level1 col0\" >model_name</th>\n",
       "      <th id=\"T_8a7b6_level1_col1\" class=\"col_heading level1 col1\" >model</th>\n",
       "      <th id=\"T_8a7b6_level1_col2\" class=\"col_heading level1 col2\" >timestamp</th>\n",
       "      <th id=\"T_8a7b6_level1_col3\" class=\"col_heading level1 col3\" >R2 Score</th>\n",
       "      <th id=\"T_8a7b6_level1_col4\" class=\"col_heading level1 col4\" >RMSE</th>\n",
       "      <th id=\"T_8a7b6_level1_col5\" class=\"col_heading level1 col5\" >MAPE</th>\n",
       "      <th id=\"T_8a7b6_level1_col6\" class=\"col_heading level1 col6\" >R2 Score</th>\n",
       "      <th id=\"T_8a7b6_level1_col7\" class=\"col_heading level1 col7\" >RMSE</th>\n",
       "      <th id=\"T_8a7b6_level1_col8\" class=\"col_heading level1 col8\" >MAPE</th>\n",
       "    </tr>\n",
       "  </thead>\n",
       "  <tbody>\n",
       "    <tr>\n",
       "      <th id=\"T_8a7b6_level0_row0\" class=\"row_heading level0 row0\" >0</th>\n",
       "      <td id=\"T_8a7b6_row0_col0\" class=\"data row0 col0\" >Decision Tree</td>\n",
       "      <td id=\"T_8a7b6_row0_col1\" class=\"data row0 col1\" >DecisionTreeRegressor()</td>\n",
       "      <td id=\"T_8a7b6_row0_col2\" class=\"data row0 col2\" >2023-03-02 20:37:19.565429</td>\n",
       "      <td id=\"T_8a7b6_row0_col3\" class=\"data row0 col3\" >0.712869</td>\n",
       "      <td id=\"T_8a7b6_row0_col4\" class=\"data row0 col4\" >41686.855769</td>\n",
       "      <td id=\"T_8a7b6_row0_col5\" class=\"data row0 col5\" >0.135524</td>\n",
       "      <td id=\"T_8a7b6_row0_col6\" class=\"data row0 col6\" >0.999998</td>\n",
       "      <td id=\"T_8a7b6_row0_col7\" class=\"data row0 col7\" >113.330919</td>\n",
       "      <td id=\"T_8a7b6_row0_col8\" class=\"data row0 col8\" >0.000026</td>\n",
       "    </tr>\n",
       "    <tr>\n",
       "      <th id=\"T_8a7b6_level0_row1\" class=\"row_heading level0 row1\" >1</th>\n",
       "      <td id=\"T_8a7b6_row1_col0\" class=\"data row1 col0\" >Random Forest Regression</td>\n",
       "      <td id=\"T_8a7b6_row1_col1\" class=\"data row1 col1\" >RandomForestRegressor(n_jobs=-1, oob_score=True, random_state=42)</td>\n",
       "      <td id=\"T_8a7b6_row1_col2\" class=\"data row1 col2\" >2023-03-02 20:38:14.038386</td>\n",
       "      <td id=\"T_8a7b6_row1_col3\" class=\"data row1 col3\" >0.866963</td>\n",
       "      <td id=\"T_8a7b6_row1_col4\" class=\"data row1 col4\" >28375.557732</td>\n",
       "      <td id=\"T_8a7b6_row1_col5\" class=\"data row1 col5\" >0.086456</td>\n",
       "      <td id=\"T_8a7b6_row1_col6\" class=\"data row1 col6\" >0.984526</td>\n",
       "      <td id=\"T_8a7b6_row1_col7\" class=\"data row1 col7\" >9990.494787</td>\n",
       "      <td id=\"T_8a7b6_row1_col8\" class=\"data row1 col8\" >0.036689</td>\n",
       "    </tr>\n",
       "    <tr>\n",
       "      <th id=\"T_8a7b6_level0_row2\" class=\"row_heading level0 row2\" >2</th>\n",
       "      <td id=\"T_8a7b6_row2_col0\" class=\"data row2 col0\" >Random Forest Regression - Grid Search Tuned</td>\n",
       "      <td id=\"T_8a7b6_row2_col1\" class=\"data row2 col1\" >RandomForestRegressor(max_depth=70, min_samples_leaf=3, min_samples_split=4,\n",
       "                      n_jobs=-1, oob_score=True, random_state=42)</td>\n",
       "      <td id=\"T_8a7b6_row2_col2\" class=\"data row2 col2\" >2023-03-02 20:41:11.324318</td>\n",
       "      <td id=\"T_8a7b6_row2_col3\" class=\"data row2 col3\" >0.865919</td>\n",
       "      <td id=\"T_8a7b6_row2_col4\" class=\"data row2 col4\" >28486.709718</td>\n",
       "      <td id=\"T_8a7b6_row2_col5\" class=\"data row2 col5\" >0.086186</td>\n",
       "      <td id=\"T_8a7b6_row2_col6\" class=\"data row2 col6\" >0.967134</td>\n",
       "      <td id=\"T_8a7b6_row2_col7\" class=\"data row2 col7\" >14560.069354</td>\n",
       "      <td id=\"T_8a7b6_row2_col8\" class=\"data row2 col8\" >0.049943</td>\n",
       "    </tr>\n",
       "  </tbody>\n",
       "</table>\n"
      ],
      "text/plain": [
       "<pandas.io.formats.style.Styler at 0x1b41afe0d30>"
      ]
     },
     "execution_count": 20,
     "metadata": {},
     "output_type": "execute_result"
    }
   ],
   "source": [
    "metrics()"
   ]
  },
  {
   "cell_type": "code",
   "execution_count": 21,
   "id": "c5f130aa",
   "metadata": {
    "ExecuteTime": {
     "end_time": "2023-03-03T03:41:17.910194Z",
     "start_time": "2023-03-03T03:41:17.878998Z"
    }
   },
   "outputs": [
    {
     "data": {
      "text/plain": [
       "[['OverallQual', 0.633],\n",
       " ['area', 0.139],\n",
       " ['TotalBsmtSF', 0.041],\n",
       " ['X1stFlrSF', 0.031],\n",
       " ['X2ndFlrSF', 0.024],\n",
       " ['BsmtFinSF1', 0.021],\n",
       " ['LotArea', 0.017],\n",
       " ['GarageArea', 0.014],\n",
       " ['YearsToSale', 0.012],\n",
       " ['GarageCars', 0.011],\n",
       " ['KitchenQual', 0.005],\n",
       " ['WoodDeckSF', 0.005],\n",
       " ['MSZoning', 0.004],\n",
       " ['Neighborhood', 0.004],\n",
       " ['BsmtQual', 0.004]]"
      ]
     },
     "execution_count": 21,
     "metadata": {},
     "output_type": "execute_result"
    }
   ],
   "source": [
    "# Look at the feature importance for the tree model\n",
    "features_and_scores = []\n",
    "for name, score in zip(X_train.columns, rf_grid.best_estimator_.feature_importances_):\n",
    "    features_and_scores.append([name, round(score, 3)])\n",
    "\n",
    "sorted(features_and_scores, key = lambda x: x[1], reverse=True)[:15]"
   ]
  },
  {
   "cell_type": "code",
   "execution_count": 22,
   "id": "6c77c14d",
   "metadata": {
    "ExecuteTime": {
     "end_time": "2023-03-03T03:41:32.113494Z",
     "start_time": "2023-03-03T03:41:18.786740Z"
    }
   },
   "outputs": [
    {
     "data": {
      "text/plain": [
       "[['OverallQual', 0.509],\n",
       " ['area', 0.186],\n",
       " ['TotalBsmtSF', 0.036],\n",
       " ['BsmtFinSF1', 0.025],\n",
       " ['X1stFlrSF', 0.023],\n",
       " ['YearsToSale', 0.017],\n",
       " ['LotArea', 0.016],\n",
       " ['X2ndFlrSF', 0.013],\n",
       " ['GarageCars', 0.012],\n",
       " ['GarageArea', 0.012],\n",
       " ['MSZoning', 0.004],\n",
       " ['Neighborhood', 0.004],\n",
       " ['WoodDeckSF', 0.004],\n",
       " ['OpenPorchSF', 0.004],\n",
       " ['OverallCond', 0.004]]"
      ]
     },
     "execution_count": 22,
     "metadata": {},
     "output_type": "execute_result"
    }
   ],
   "source": [
    "# Tree based estimators will be biased towards continius features\n",
    "# or higher dimensional features, look at permutation importance\n",
    "# this is model dependent, based model -> invalid importance\n",
    "perm_importance = permutation_importance(randomf_reg, X_train, y_train,\n",
    "                                         n_repeats=30,\n",
    "                                         random_state=42,\n",
    "                                         n_jobs=-1)\n",
    "\n",
    "# Look at the feature importance for the tree model\n",
    "p_importance = []\n",
    "for name, score in zip(X_train.columns, perm_importance.importances_mean):\n",
    "    p_importance.append([name, round(score, 3)])\n",
    "\n",
    "sorted(p_importance, key = lambda x: x[1], reverse=True)[:15]"
   ]
  },
  {
   "cell_type": "code",
   "execution_count": 27,
   "id": "e68edf21",
   "metadata": {
    "ExecuteTime": {
     "end_time": "2023-03-03T03:42:16.344939Z",
     "start_time": "2023-03-03T03:42:15.941379Z"
    }
   },
   "outputs": [
    {
     "data": {
      "image/png": "[encoded data removed]",
      "text/plain": [
       "<Figure size 432x288 with 1 Axes>"
      ]
     },
     "metadata": {
      "needs_background": "light"
     },
     "output_type": "display_data"
    }
   ],
   "source": [
    "features_df = pd.DataFrame(features_and_scores, columns=['Feature', 'Importance']).sort_values(by='Importance', ascending=False).head(10)\n",
    "sns.barplot(data=features_df,\n",
    "            y='Feature',\n",
    "            x='Importance',\n",
    "            orient='h')\n",
    "plt.xscale('log')"
   ]
  },
  {
   "cell_type": "markdown",
   "id": "73c32c0d",
   "metadata": {},
   "source": [
    "## LightGBM"
   ]
  },
  {
   "cell_type": "code",
   "execution_count": 28,
   "id": "9253d355",
   "metadata": {
    "ExecuteTime": {
     "end_time": "2023-03-03T03:42:26.217071Z",
     "start_time": "2023-03-03T03:42:26.200673Z"
    }
   },
   "outputs": [],
   "source": [
    "# Create validation sets\n",
    "X2_train, X2_validate, y2_train, y2_validate = train_test_split(X_train, \n",
    "                                                                y_train, \n",
    "                                                                test_size= 0.25,\n",
    "                                                                random_state=42)"
   ]
  },
  {
   "cell_type": "code",
   "execution_count": 29,
   "id": "ddcf65bd",
   "metadata": {
    "ExecuteTime": {
     "end_time": "2023-03-03T03:42:27.289031Z",
     "start_time": "2023-03-03T03:42:27.279030Z"
    }
   },
   "outputs": [],
   "source": [
    "lgb_train = lgb.Dataset(X2_train, y2_train)\n",
    "validation_set = lgb.Dataset(X2_validate, y2_validate)"
   ]
  },
  {
   "cell_type": "code",
   "execution_count": 30,
   "id": "3e473de8",
   "metadata": {
    "ExecuteTime": {
     "end_time": "2023-03-03T03:42:28.442268Z",
     "start_time": "2023-03-03T03:42:28.331688Z"
    }
   },
   "outputs": [
    {
     "name": "stdout",
     "output_type": "stream",
     "text": [
      "[LightGBM] [Warning] Auto-choosing row-wise multi-threading, the overhead of testing was 0.000658 seconds.\n",
      "You can set `force_row_wise=true` to remove the overhead.\n",
      "And if memory is not enough, you can set `force_col_wise=true`.\n",
      "[LightGBM] [Info] Total Bins 2503\n",
      "[LightGBM] [Info] Number of data points in the train set: 1644, number of used features: 43\n",
      "[LightGBM] [Info] Start training from score 180104.953163\n"
     ]
    }
   ],
   "source": [
    "# Train a vanilla model\n",
    "params = {\n",
    "    'boosting_type': 'gbdt',\n",
    "    'objective': 'regression',\n",
    "    'metric': 'mse',\n",
    "}\n",
    "\n",
    "booster = lgb.train(params,\n",
    "                    lgb_train)"
   ]
  },
  {
   "cell_type": "code",
   "execution_count": 31,
   "id": "9bf6b85a",
   "metadata": {
    "ExecuteTime": {
     "end_time": "2023-03-03T03:42:29.830633Z",
     "start_time": "2023-03-03T03:42:29.778476Z"
    }
   },
   "outputs": [
    {
     "name": "stdout",
     "output_type": "stream",
     "text": [
      "{'model': <lightgbm.basic.Booster object at 0x000001B422CCE430>,\n",
      " 'model_name': 'LightGBM',\n",
      " 'test': {'MAPE': 0.08254212699344546,\n",
      "          'R2 Score': 0.875114246779076,\n",
      "          'RMSE': 27492.573084624106},\n",
      " 'timestamp': '2023-03-02 20:42:29.779579',\n",
      " 'train': {'MAPE': 0.05295803543264103,\n",
      "           'R2 Score': 0.9574743359457822,\n",
      "           'RMSE': 16562.037933623462}}\n"
     ]
    },
    {
     "data": {
      "text/html": [
       "<style type=\"text/css\">\n",
       "#T_29870_row0_col3, #T_29870_row0_col7, #T_29870_row0_col8, #T_29870_row3_col4, #T_29870_row3_col5, #T_29870_row3_col6 {\n",
       "  background-color: #2e8b57;\n",
       "  color: #f1f1f1;\n",
       "}\n",
       "#T_29870_row0_col4, #T_29870_row0_col5, #T_29870_row0_col6, #T_29870_row3_col3, #T_29870_row3_col7, #T_29870_row3_col8 {\n",
       "  background-color: #ebf3ed;\n",
       "  color: #000000;\n",
       "}\n",
       "#T_29870_row1_col3 {\n",
       "  background-color: #e2eee6;\n",
       "  color: #000000;\n",
       "}\n",
       "#T_29870_row1_col4 {\n",
       "  background-color: #399160;\n",
       "  color: #f1f1f1;\n",
       "}\n",
       "#T_29870_row1_col5 {\n",
       "  background-color: #3b9262;\n",
       "  color: #f1f1f1;\n",
       "}\n",
       "#T_29870_row1_col6 {\n",
       "  background-color: #a6cdb6;\n",
       "  color: #000000;\n",
       "}\n",
       "#T_29870_row1_col7 {\n",
       "  background-color: #9fc9b1;\n",
       "  color: #000000;\n",
       "}\n",
       "#T_29870_row1_col8 {\n",
       "  background-color: #b1d3bf;\n",
       "  color: #000000;\n",
       "}\n",
       "#T_29870_row2_col3, #T_29870_row2_col8 {\n",
       "  background-color: #e1ede5;\n",
       "  color: #000000;\n",
       "}\n",
       "#T_29870_row2_col4, #T_29870_row2_col5 {\n",
       "  background-color: #3b9261;\n",
       "  color: #f1f1f1;\n",
       "}\n",
       "#T_29870_row2_col6 {\n",
       "  background-color: #59a379;\n",
       "  color: #f1f1f1;\n",
       "}\n",
       "#T_29870_row2_col7 {\n",
       "  background-color: #d4e6db;\n",
       "  color: #000000;\n",
       "}\n",
       "</style>\n",
       "<table id=\"T_29870\">\n",
       "  <thead>\n",
       "    <tr>\n",
       "      <th class=\"blank level0\" >&nbsp;</th>\n",
       "      <th id=\"T_29870_level0_col0\" class=\"col_heading level0 col0\" colspan=\"3\">Model</th>\n",
       "      <th id=\"T_29870_level0_col3\" class=\"col_heading level0 col3\" colspan=\"3\">test</th>\n",
       "      <th id=\"T_29870_level0_col6\" class=\"col_heading level0 col6\" colspan=\"3\">train</th>\n",
       "    </tr>\n",
       "    <tr>\n",
       "      <th class=\"blank level1\" >&nbsp;</th>\n",
       "      <th id=\"T_29870_level1_col0\" class=\"col_heading level1 col0\" >model_name</th>\n",
       "      <th id=\"T_29870_level1_col1\" class=\"col_heading level1 col1\" >model</th>\n",
       "      <th id=\"T_29870_level1_col2\" class=\"col_heading level1 col2\" >timestamp</th>\n",
       "      <th id=\"T_29870_level1_col3\" class=\"col_heading level1 col3\" >R2 Score</th>\n",
       "      <th id=\"T_29870_level1_col4\" class=\"col_heading level1 col4\" >RMSE</th>\n",
       "      <th id=\"T_29870_level1_col5\" class=\"col_heading level1 col5\" >MAPE</th>\n",
       "      <th id=\"T_29870_level1_col6\" class=\"col_heading level1 col6\" >R2 Score</th>\n",
       "      <th id=\"T_29870_level1_col7\" class=\"col_heading level1 col7\" >RMSE</th>\n",
       "      <th id=\"T_29870_level1_col8\" class=\"col_heading level1 col8\" >MAPE</th>\n",
       "    </tr>\n",
       "  </thead>\n",
       "  <tbody>\n",
       "    <tr>\n",
       "      <th id=\"T_29870_level0_row0\" class=\"row_heading level0 row0\" >0</th>\n",
       "      <td id=\"T_29870_row0_col0\" class=\"data row0 col0\" >Decision Tree</td>\n",
       "      <td id=\"T_29870_row0_col1\" class=\"data row0 col1\" >DecisionTreeRegressor()</td>\n",
       "      <td id=\"T_29870_row0_col2\" class=\"data row0 col2\" >2023-03-02 20:37:19.565429</td>\n",
       "      <td id=\"T_29870_row0_col3\" class=\"data row0 col3\" >0.712869</td>\n",
       "      <td id=\"T_29870_row0_col4\" class=\"data row0 col4\" >41686.855769</td>\n",
       "      <td id=\"T_29870_row0_col5\" class=\"data row0 col5\" >0.135524</td>\n",
       "      <td id=\"T_29870_row0_col6\" class=\"data row0 col6\" >0.999998</td>\n",
       "      <td id=\"T_29870_row0_col7\" class=\"data row0 col7\" >113.330919</td>\n",
       "      <td id=\"T_29870_row0_col8\" class=\"data row0 col8\" >0.000026</td>\n",
       "    </tr>\n",
       "    <tr>\n",
       "      <th id=\"T_29870_level0_row1\" class=\"row_heading level0 row1\" >1</th>\n",
       "      <td id=\"T_29870_row1_col0\" class=\"data row1 col0\" >Random Forest Regression</td>\n",
       "      <td id=\"T_29870_row1_col1\" class=\"data row1 col1\" >RandomForestRegressor(n_jobs=-1, oob_score=True, random_state=42)</td>\n",
       "      <td id=\"T_29870_row1_col2\" class=\"data row1 col2\" >2023-03-02 20:38:14.038386</td>\n",
       "      <td id=\"T_29870_row1_col3\" class=\"data row1 col3\" >0.866963</td>\n",
       "      <td id=\"T_29870_row1_col4\" class=\"data row1 col4\" >28375.557732</td>\n",
       "      <td id=\"T_29870_row1_col5\" class=\"data row1 col5\" >0.086456</td>\n",
       "      <td id=\"T_29870_row1_col6\" class=\"data row1 col6\" >0.984526</td>\n",
       "      <td id=\"T_29870_row1_col7\" class=\"data row1 col7\" >9990.494787</td>\n",
       "      <td id=\"T_29870_row1_col8\" class=\"data row1 col8\" >0.036689</td>\n",
       "    </tr>\n",
       "    <tr>\n",
       "      <th id=\"T_29870_level0_row2\" class=\"row_heading level0 row2\" >2</th>\n",
       "      <td id=\"T_29870_row2_col0\" class=\"data row2 col0\" >Random Forest Regression - Grid Search Tuned</td>\n",
       "      <td id=\"T_29870_row2_col1\" class=\"data row2 col1\" >RandomForestRegressor(max_depth=70, min_samples_leaf=3, min_samples_split=4,\n",
       "                      n_jobs=-1, oob_score=True, random_state=42)</td>\n",
       "      <td id=\"T_29870_row2_col2\" class=\"data row2 col2\" >2023-03-02 20:41:11.324318</td>\n",
       "      <td id=\"T_29870_row2_col3\" class=\"data row2 col3\" >0.865919</td>\n",
       "      <td id=\"T_29870_row2_col4\" class=\"data row2 col4\" >28486.709718</td>\n",
       "      <td id=\"T_29870_row2_col5\" class=\"data row2 col5\" >0.086186</td>\n",
       "      <td id=\"T_29870_row2_col6\" class=\"data row2 col6\" >0.967134</td>\n",
       "      <td id=\"T_29870_row2_col7\" class=\"data row2 col7\" >14560.069354</td>\n",
       "      <td id=\"T_29870_row2_col8\" class=\"data row2 col8\" >0.049943</td>\n",
       "    </tr>\n",
       "    <tr>\n",
       "      <th id=\"T_29870_level0_row3\" class=\"row_heading level0 row3\" >3</th>\n",
       "      <td id=\"T_29870_row3_col0\" class=\"data row3 col0\" >LightGBM</td>\n",
       "      <td id=\"T_29870_row3_col1\" class=\"data row3 col1\" ><lightgbm.basic.Booster object at 0x000001B422CCE430></td>\n",
       "      <td id=\"T_29870_row3_col2\" class=\"data row3 col2\" >2023-03-02 20:42:29.779579</td>\n",
       "      <td id=\"T_29870_row3_col3\" class=\"data row3 col3\" >0.875114</td>\n",
       "      <td id=\"T_29870_row3_col4\" class=\"data row3 col4\" >27492.573085</td>\n",
       "      <td id=\"T_29870_row3_col5\" class=\"data row3 col5\" >0.082542</td>\n",
       "      <td id=\"T_29870_row3_col6\" class=\"data row3 col6\" >0.957474</td>\n",
       "      <td id=\"T_29870_row3_col7\" class=\"data row3 col7\" >16562.037934</td>\n",
       "      <td id=\"T_29870_row3_col8\" class=\"data row3 col8\" >0.052958</td>\n",
       "    </tr>\n",
       "  </tbody>\n",
       "</table>\n"
      ],
      "text/plain": [
       "<pandas.io.formats.style.Styler at 0x1b422cc8490>"
      ]
     },
     "execution_count": 31,
     "metadata": {},
     "output_type": "execute_result"
    }
   ],
   "source": [
    "regression_metrics(booster, 'LightGBM')\n",
    "metrics()"
   ]
  },
  {
   "cell_type": "code",
   "execution_count": 32,
   "id": "e163ef46",
   "metadata": {
    "ExecuteTime": {
     "end_time": "2023-03-03T03:42:34.331337Z",
     "start_time": "2023-03-03T03:42:34.322247Z"
    }
   },
   "outputs": [],
   "source": [
    "lgb_train = lgb.Dataset(X2_train, y2_train)\n",
    "validation_set = lgb.Dataset(X2_validate, y2_validate)"
   ]
  },
  {
   "cell_type": "code",
   "execution_count": 56,
   "id": "438eb70e",
   "metadata": {
    "ExecuteTime": {
     "end_time": "2023-03-03T04:42:50.250113Z",
     "start_time": "2023-03-03T04:42:50.225017Z"
    }
   },
   "outputs": [],
   "source": [
    "# Integration only tunes the following\n",
    "# lambda_l1, lambda_l2, num_leaves, feature_fraction, bagging_fraction, bagging_freq and min_child_samples\n",
    "params = {\n",
    "    'boosting_type': 'gbdt',\n",
    "    'objective': 'regression',\n",
    "    'metric': 'rmse',\n",
    "    'num_leaves': 31,\n",
    "    'learning_rate': 0.05,\n",
    "    'feature_fraction': 0.9,\n",
    "    'bagging_fraction': 0.8,\n",
    "    'bagging_freq': 5,\n",
    "    'verbose': 0,\n",
    "}\n",
    "\n",
    "# Using Optuna to tune, create a study to tune for final model\n",
    "tuned_booster = opt_lgb.train(params,\n",
    "                             lgb_train,\n",
    "                             valid_sets=[validation_set],\n",
    "                             early_stopping_rounds=1000,\n",
    "                             show_progress_bar = True)"
   ]
  },
  {
   "cell_type": "code",
   "execution_count": 34,
   "id": "1c635afa",
   "metadata": {
    "ExecuteTime": {
     "end_time": "2023-03-03T03:44:11.527689Z",
     "start_time": "2023-03-03T03:44:11.466304Z"
    }
   },
   "outputs": [
    {
     "name": "stdout",
     "output_type": "stream",
     "text": [
      "Validation Set Best Score\n",
      ": defaultdict(<class 'collections.OrderedDict'>, {'valid_0': OrderedDict([('rmse', 24771.51147325579)])}) \n",
      "\n",
      "{'model': <lightgbm.basic.Booster object at 0x000001B422D5C070>,\n",
      " 'model_name': 'LightGBM Optuna Tuned',\n",
      " 'test': {'MAPE': 0.07597770400002897,\n",
      "          'R2 Score': 0.8782770612169689,\n",
      "          'RMSE': 27142.20673013889},\n",
      " 'timestamp': '2023-03-02 20:44:11.467397',\n",
      " 'train': {'MAPE': 0.02605187752257108,\n",
      "           'R2 Score': 0.9759083786209063,\n",
      "           'RMSE': 12465.831079971773}}\n"
     ]
    }
   ],
   "source": [
    "print(f'Validation Set Best Score\\n: {tuned_booster.best_score} \\n')\n",
    "regression_metrics(tuned_booster, 'LightGBM Optuna Tuned', collect=True)"
   ]
  },
  {
   "cell_type": "code",
   "execution_count": 35,
   "id": "7decca06",
   "metadata": {
    "ExecuteTime": {
     "end_time": "2023-03-03T03:44:11.777251Z",
     "start_time": "2023-03-03T03:44:11.740430Z"
    }
   },
   "outputs": [
    {
     "data": {
      "text/html": [
       "<style type=\"text/css\">\n",
       "#T_afdd3_row0_col3, #T_afdd3_row0_col7, #T_afdd3_row0_col8, #T_afdd3_row3_col6, #T_afdd3_row4_col4, #T_afdd3_row4_col5 {\n",
       "  background-color: #2e8b57;\n",
       "  color: #f1f1f1;\n",
       "}\n",
       "#T_afdd3_row0_col4, #T_afdd3_row0_col5, #T_afdd3_row0_col6, #T_afdd3_row3_col7, #T_afdd3_row3_col8, #T_afdd3_row4_col3 {\n",
       "  background-color: #ebf3ed;\n",
       "  color: #000000;\n",
       "}\n",
       "#T_afdd3_row1_col3 {\n",
       "  background-color: #deece3;\n",
       "  color: #000000;\n",
       "}\n",
       "#T_afdd3_row1_col4 {\n",
       "  background-color: #3e9463;\n",
       "  color: #f1f1f1;\n",
       "}\n",
       "#T_afdd3_row1_col5 {\n",
       "  background-color: #4f9d72;\n",
       "  color: #f1f1f1;\n",
       "}\n",
       "#T_afdd3_row1_col6 {\n",
       "  background-color: #a6cdb6;\n",
       "  color: #000000;\n",
       "}\n",
       "#T_afdd3_row1_col7 {\n",
       "  background-color: #9fc9b1;\n",
       "  color: #000000;\n",
       "}\n",
       "#T_afdd3_row1_col8 {\n",
       "  background-color: #b1d3bf;\n",
       "  color: #000000;\n",
       "}\n",
       "#T_afdd3_row2_col3 {\n",
       "  background-color: #ddebe2;\n",
       "  color: #000000;\n",
       "}\n",
       "#T_afdd3_row2_col4 {\n",
       "  background-color: #3f9465;\n",
       "  color: #f1f1f1;\n",
       "}\n",
       "#T_afdd3_row2_col5 {\n",
       "  background-color: #4e9c70;\n",
       "  color: #f1f1f1;\n",
       "}\n",
       "#T_afdd3_row2_col6 {\n",
       "  background-color: #59a379;\n",
       "  color: #f1f1f1;\n",
       "}\n",
       "#T_afdd3_row2_col7 {\n",
       "  background-color: #d4e6db;\n",
       "  color: #000000;\n",
       "}\n",
       "#T_afdd3_row2_col8 {\n",
       "  background-color: #e1ede5;\n",
       "  color: #000000;\n",
       "}\n",
       "#T_afdd3_row3_col3 {\n",
       "  background-color: #e8f1eb;\n",
       "  color: #000000;\n",
       "}\n",
       "#T_afdd3_row3_col4 {\n",
       "  background-color: #328d5b;\n",
       "  color: #f1f1f1;\n",
       "}\n",
       "#T_afdd3_row3_col5 {\n",
       "  background-color: #439667;\n",
       "  color: #f1f1f1;\n",
       "}\n",
       "#T_afdd3_row4_col6 {\n",
       "  background-color: #80b898;\n",
       "  color: #000000;\n",
       "}\n",
       "#T_afdd3_row4_col7 {\n",
       "  background-color: #bcd9c8;\n",
       "  color: #000000;\n",
       "}\n",
       "#T_afdd3_row4_col8 {\n",
       "  background-color: #8bbea1;\n",
       "  color: #000000;\n",
       "}\n",
       "</style>\n",
       "<table id=\"T_afdd3\">\n",
       "  <thead>\n",
       "    <tr>\n",
       "      <th class=\"blank level0\" >&nbsp;</th>\n",
       "      <th id=\"T_afdd3_level0_col0\" class=\"col_heading level0 col0\" colspan=\"3\">Model</th>\n",
       "      <th id=\"T_afdd3_level0_col3\" class=\"col_heading level0 col3\" colspan=\"3\">test</th>\n",
       "      <th id=\"T_afdd3_level0_col6\" class=\"col_heading level0 col6\" colspan=\"3\">train</th>\n",
       "    </tr>\n",
       "    <tr>\n",
       "      <th class=\"blank level1\" >&nbsp;</th>\n",
       "      <th id=\"T_afdd3_level1_col0\" class=\"col_heading level1 col0\" >model_name</th>\n",
       "      <th id=\"T_afdd3_level1_col1\" class=\"col_heading level1 col1\" >model</th>\n",
       "      <th id=\"T_afdd3_level1_col2\" class=\"col_heading level1 col2\" >timestamp</th>\n",
       "      <th id=\"T_afdd3_level1_col3\" class=\"col_heading level1 col3\" >R2 Score</th>\n",
       "      <th id=\"T_afdd3_level1_col4\" class=\"col_heading level1 col4\" >RMSE</th>\n",
       "      <th id=\"T_afdd3_level1_col5\" class=\"col_heading level1 col5\" >MAPE</th>\n",
       "      <th id=\"T_afdd3_level1_col6\" class=\"col_heading level1 col6\" >R2 Score</th>\n",
       "      <th id=\"T_afdd3_level1_col7\" class=\"col_heading level1 col7\" >RMSE</th>\n",
       "      <th id=\"T_afdd3_level1_col8\" class=\"col_heading level1 col8\" >MAPE</th>\n",
       "    </tr>\n",
       "  </thead>\n",
       "  <tbody>\n",
       "    <tr>\n",
       "      <th id=\"T_afdd3_level0_row0\" class=\"row_heading level0 row0\" >0</th>\n",
       "      <td id=\"T_afdd3_row0_col0\" class=\"data row0 col0\" >Decision Tree</td>\n",
       "      <td id=\"T_afdd3_row0_col1\" class=\"data row0 col1\" >DecisionTreeRegressor()</td>\n",
       "      <td id=\"T_afdd3_row0_col2\" class=\"data row0 col2\" >2023-03-02 20:37:19.565429</td>\n",
       "      <td id=\"T_afdd3_row0_col3\" class=\"data row0 col3\" >0.712869</td>\n",
       "      <td id=\"T_afdd3_row0_col4\" class=\"data row0 col4\" >41686.855769</td>\n",
       "      <td id=\"T_afdd3_row0_col5\" class=\"data row0 col5\" >0.135524</td>\n",
       "      <td id=\"T_afdd3_row0_col6\" class=\"data row0 col6\" >0.999998</td>\n",
       "      <td id=\"T_afdd3_row0_col7\" class=\"data row0 col7\" >113.330919</td>\n",
       "      <td id=\"T_afdd3_row0_col8\" class=\"data row0 col8\" >0.000026</td>\n",
       "    </tr>\n",
       "    <tr>\n",
       "      <th id=\"T_afdd3_level0_row1\" class=\"row_heading level0 row1\" >1</th>\n",
       "      <td id=\"T_afdd3_row1_col0\" class=\"data row1 col0\" >Random Forest Regression</td>\n",
       "      <td id=\"T_afdd3_row1_col1\" class=\"data row1 col1\" >RandomForestRegressor(n_jobs=-1, oob_score=True, random_state=42)</td>\n",
       "      <td id=\"T_afdd3_row1_col2\" class=\"data row1 col2\" >2023-03-02 20:38:14.038386</td>\n",
       "      <td id=\"T_afdd3_row1_col3\" class=\"data row1 col3\" >0.866963</td>\n",
       "      <td id=\"T_afdd3_row1_col4\" class=\"data row1 col4\" >28375.557732</td>\n",
       "      <td id=\"T_afdd3_row1_col5\" class=\"data row1 col5\" >0.086456</td>\n",
       "      <td id=\"T_afdd3_row1_col6\" class=\"data row1 col6\" >0.984526</td>\n",
       "      <td id=\"T_afdd3_row1_col7\" class=\"data row1 col7\" >9990.494787</td>\n",
       "      <td id=\"T_afdd3_row1_col8\" class=\"data row1 col8\" >0.036689</td>\n",
       "    </tr>\n",
       "    <tr>\n",
       "      <th id=\"T_afdd3_level0_row2\" class=\"row_heading level0 row2\" >2</th>\n",
       "      <td id=\"T_afdd3_row2_col0\" class=\"data row2 col0\" >Random Forest Regression - Grid Search Tuned</td>\n",
       "      <td id=\"T_afdd3_row2_col1\" class=\"data row2 col1\" >RandomForestRegressor(max_depth=70, min_samples_leaf=3, min_samples_split=4,\n",
       "                      n_jobs=-1, oob_score=True, random_state=42)</td>\n",
       "      <td id=\"T_afdd3_row2_col2\" class=\"data row2 col2\" >2023-03-02 20:41:11.324318</td>\n",
       "      <td id=\"T_afdd3_row2_col3\" class=\"data row2 col3\" >0.865919</td>\n",
       "      <td id=\"T_afdd3_row2_col4\" class=\"data row2 col4\" >28486.709718</td>\n",
       "      <td id=\"T_afdd3_row2_col5\" class=\"data row2 col5\" >0.086186</td>\n",
       "      <td id=\"T_afdd3_row2_col6\" class=\"data row2 col6\" >0.967134</td>\n",
       "      <td id=\"T_afdd3_row2_col7\" class=\"data row2 col7\" >14560.069354</td>\n",
       "      <td id=\"T_afdd3_row2_col8\" class=\"data row2 col8\" >0.049943</td>\n",
       "    </tr>\n",
       "    <tr>\n",
       "      <th id=\"T_afdd3_level0_row3\" class=\"row_heading level0 row3\" >3</th>\n",
       "      <td id=\"T_afdd3_row3_col0\" class=\"data row3 col0\" >LightGBM</td>\n",
       "      <td id=\"T_afdd3_row3_col1\" class=\"data row3 col1\" ><lightgbm.basic.Booster object at 0x000001B422CCE430></td>\n",
       "      <td id=\"T_afdd3_row3_col2\" class=\"data row3 col2\" >2023-03-02 20:42:29.779579</td>\n",
       "      <td id=\"T_afdd3_row3_col3\" class=\"data row3 col3\" >0.875114</td>\n",
       "      <td id=\"T_afdd3_row3_col4\" class=\"data row3 col4\" >27492.573085</td>\n",
       "      <td id=\"T_afdd3_row3_col5\" class=\"data row3 col5\" >0.082542</td>\n",
       "      <td id=\"T_afdd3_row3_col6\" class=\"data row3 col6\" >0.957474</td>\n",
       "      <td id=\"T_afdd3_row3_col7\" class=\"data row3 col7\" >16562.037934</td>\n",
       "      <td id=\"T_afdd3_row3_col8\" class=\"data row3 col8\" >0.052958</td>\n",
       "    </tr>\n",
       "    <tr>\n",
       "      <th id=\"T_afdd3_level0_row4\" class=\"row_heading level0 row4\" >4</th>\n",
       "      <td id=\"T_afdd3_row4_col0\" class=\"data row4 col0\" >LightGBM Optuna Tuned</td>\n",
       "      <td id=\"T_afdd3_row4_col1\" class=\"data row4 col1\" ><lightgbm.basic.Booster object at 0x000001B422D5C070></td>\n",
       "      <td id=\"T_afdd3_row4_col2\" class=\"data row4 col2\" >2023-03-02 20:44:11.467397</td>\n",
       "      <td id=\"T_afdd3_row4_col3\" class=\"data row4 col3\" >0.878277</td>\n",
       "      <td id=\"T_afdd3_row4_col4\" class=\"data row4 col4\" >27142.206730</td>\n",
       "      <td id=\"T_afdd3_row4_col5\" class=\"data row4 col5\" >0.075978</td>\n",
       "      <td id=\"T_afdd3_row4_col6\" class=\"data row4 col6\" >0.975908</td>\n",
       "      <td id=\"T_afdd3_row4_col7\" class=\"data row4 col7\" >12465.831080</td>\n",
       "      <td id=\"T_afdd3_row4_col8\" class=\"data row4 col8\" >0.026052</td>\n",
       "    </tr>\n",
       "  </tbody>\n",
       "</table>\n"
      ],
      "text/plain": [
       "<pandas.io.formats.style.Styler at 0x1b422b08070>"
      ]
     },
     "execution_count": 35,
     "metadata": {},
     "output_type": "execute_result"
    }
   ],
   "source": [
    "metrics()"
   ]
  },
  {
   "cell_type": "code",
   "execution_count": 40,
   "id": "6f5a03b9",
   "metadata": {
    "ExecuteTime": {
     "end_time": "2023-03-03T03:47:37.647170Z",
     "start_time": "2023-03-03T03:47:37.625707Z"
    }
   },
   "outputs": [
    {
     "data": {
      "text/plain": [
       "{'boosting_type': 'gbdt',\n",
       " 'objective': 'regression',\n",
       " 'metric': 'rmse',\n",
       " 'num_leaves': 31,\n",
       " 'learning_rate': 0.05,\n",
       " 'feature_fraction': 0.44800000000000006,\n",
       " 'bagging_fraction': 0.9425027593958745,\n",
       " 'bagging_freq': 6,\n",
       " 'verbose': 0,\n",
       " 'feature_pre_filter': False,\n",
       " 'lambda_l1': 4.645269379905211,\n",
       " 'lambda_l2': 3.462023380485085e-07,\n",
       " 'min_child_samples': 5,\n",
       " 'num_iterations': 1000,\n",
       " 'early_stopping_round': 1000}"
      ]
     },
     "execution_count": 40,
     "metadata": {},
     "output_type": "execute_result"
    }
   ],
   "source": [
    "tuned_booster.params"
   ]
  },
  {
   "cell_type": "code",
   "execution_count": 41,
   "id": "77d01337",
   "metadata": {
    "ExecuteTime": {
     "end_time": "2023-03-03T03:48:08.161243Z",
     "start_time": "2023-03-03T03:48:07.950630Z"
    }
   },
   "outputs": [
    {
     "data": {
      "image/png": "[encoded data removed]",
      "text/plain": [
       "<Figure size 432x288 with 1 Axes>"
      ]
     },
     "metadata": {
      "needs_background": "light"
     },
     "output_type": "display_data"
    }
   ],
   "source": [
    "ax = lgb.plot_importance(tuned_booster, max_num_features=15)"
   ]
  },
  {
   "cell_type": "code",
   "execution_count": 42,
   "id": "f8964183",
   "metadata": {
    "ExecuteTime": {
     "end_time": "2023-03-03T03:48:10.771737Z",
     "start_time": "2023-03-03T03:48:10.687415Z"
    }
   },
   "outputs": [
    {
     "data": {
      "text/plain": [
       "['models\\\\lightgbm_tuned.pkl']"
      ]
     },
     "execution_count": 42,
     "metadata": {},
     "output_type": "execute_result"
    }
   ],
   "source": [
    "joblib.dump(tuned_booster, r\"models\\lightgbm_tuned.pkl\")"
   ]
  },
  {
   "cell_type": "code",
   "execution_count": 43,
   "id": "7ba2c6cd",
   "metadata": {
    "ExecuteTime": {
     "end_time": "2023-03-03T03:48:11.379909Z",
     "start_time": "2023-03-03T03:48:11.267213Z"
    }
   },
   "outputs": [],
   "source": [
    "metrics().to_excel(f\"models\\Regression Models {datetime.datetime.today().strftime('%Y-%m-%d_%H-%M')}.xlsx\")"
   ]
  },
  {
   "cell_type": "markdown",
   "id": "ef30e94d",
   "metadata": {},
   "source": [
    "## Analyze Predictions"
   ]
  },
  {
   "cell_type": "code",
   "execution_count": 44,
   "id": "01a58865",
   "metadata": {
    "ExecuteTime": {
     "end_time": "2023-03-03T03:48:15.378817Z",
     "start_time": "2023-03-03T03:48:15.339498Z"
    }
   },
   "outputs": [],
   "source": [
    "# Load trained model\n",
    "final_model = joblib.load(r\"models\\lightgbm_tuned.pkl\")"
   ]
  },
  {
   "cell_type": "code",
   "execution_count": 45,
   "id": "1f4d7778",
   "metadata": {
    "ExecuteTime": {
     "end_time": "2023-03-03T03:48:15.752209Z",
     "start_time": "2023-03-03T03:48:15.684417Z"
    }
   },
   "outputs": [],
   "source": [
    "results = X_test.copy()\n",
    "\n",
    "results['PredictedPrice'] = final_model.predict(X_test)\n",
    "results['Price'] = y_test\n",
    "results['PredictionDelta'] = results['Price']-results['PredictedPrice']\n",
    "\n",
    "# Bin rates to group by\n",
    "results['StreetRateBins'] = pd.qcut(results['Price'], 10)"
   ]
  },
  {
   "cell_type": "code",
   "execution_count": 51,
   "id": "68028a7e",
   "metadata": {
    "ExecuteTime": {
     "end_time": "2023-03-03T03:48:28.960817Z",
     "start_time": "2023-03-03T03:48:28.811270Z"
    }
   },
   "outputs": [
    {
     "data": {
      "text/plain": [
       "<seaborn.axisgrid.FacetGrid at 0x1b4230c65b0>"
      ]
     },
     "execution_count": 51,
     "metadata": {},
     "output_type": "execute_result"
    },
    {
     "data": {
      "image/png": "[encoded data removed]",
      "text/plain": [
       "<Figure size 360x360 with 1 Axes>"
      ]
     },
     "metadata": {
      "needs_background": "light"
     },
     "output_type": "display_data"
    }
   ],
   "source": [
    "sns.relplot(data=results,\n",
    "         x='Price',\n",
    "         y='PredictedPrice')"
   ]
  },
  {
   "cell_type": "markdown",
   "id": "fea24496",
   "metadata": {},
   "source": [
    "There are some significant outliers to the predictions themselves as shown above. While the error follows a normal distribution, prices for some houses are predicted to be $300,000 more than what they sold for."
   ]
  },
  {
   "cell_type": "code",
   "execution_count": 52,
   "id": "4b58ea9a",
   "metadata": {
    "ExecuteTime": {
     "end_time": "2023-03-03T03:48:55.183945Z",
     "start_time": "2023-03-03T03:48:55.171622Z"
    }
   },
   "outputs": [],
   "source": [
    "def regression_metrics(x):\n",
    "    \"\"\"Returns select scores for the predictions vs actual rates\"\"\"\n",
    "    return pd.Series([format(r2_score(x['Price'], x['PredictedPrice']), '.3f'),\n",
    "                      np.sqrt(mean_squared_error(x['Price'], x['PredictedPrice'])),\n",
    "                      mean_absolute_percentage_error(x['Price'], x['PredictedPrice'])],                     \n",
    "                      index=['R2 Score','RMSE','MAPE'])"
   ]
  },
  {
   "cell_type": "code",
   "execution_count": 53,
   "id": "c04d0f69",
   "metadata": {
    "ExecuteTime": {
     "end_time": "2023-03-03T03:48:59.431944Z",
     "start_time": "2023-03-03T03:48:59.400006Z"
    }
   },
   "outputs": [
    {
     "data": {
      "text/html": [
       "<div>\n",
       "<style scoped>\n",
       "    .dataframe tbody tr th:only-of-type {\n",
       "        vertical-align: middle;\n",
       "    }\n",
       "\n",
       "    .dataframe tbody tr th {\n",
       "        vertical-align: top;\n",
       "    }\n",
       "\n",
       "    .dataframe thead th {\n",
       "        text-align: right;\n",
       "    }\n",
       "</style>\n",
       "<table border=\"1\" class=\"dataframe\">\n",
       "  <thead>\n",
       "    <tr style=\"text-align: right;\">\n",
       "      <th></th>\n",
       "      <th>R2 Score</th>\n",
       "      <th>RMSE</th>\n",
       "      <th>MAPE</th>\n",
       "    </tr>\n",
       "    <tr>\n",
       "      <th>StreetRateBins</th>\n",
       "      <th></th>\n",
       "      <th></th>\n",
       "      <th></th>\n",
       "    </tr>\n",
       "  </thead>\n",
       "  <tbody>\n",
       "    <tr>\n",
       "      <th>(44999.999, 108000.0]</th>\n",
       "      <td>-0.062</td>\n",
       "      <td>14406.677864</td>\n",
       "      <td>0.118491</td>\n",
       "    </tr>\n",
       "    <tr>\n",
       "      <th>(108000.0, 125500.0]</th>\n",
       "      <td>-3.835</td>\n",
       "      <td>10922.273609</td>\n",
       "      <td>0.068707</td>\n",
       "    </tr>\n",
       "    <tr>\n",
       "      <th>(125500.0, 138000.0]</th>\n",
       "      <td>-10.414</td>\n",
       "      <td>12391.131545</td>\n",
       "      <td>0.066173</td>\n",
       "    </tr>\n",
       "    <tr>\n",
       "      <th>(138000.0, 149000.0]</th>\n",
       "      <td>-7.566</td>\n",
       "      <td>9222.971964</td>\n",
       "      <td>0.049732</td>\n",
       "    </tr>\n",
       "    <tr>\n",
       "      <th>(149000.0, 165400.0]</th>\n",
       "      <td>-8.176</td>\n",
       "      <td>12615.343088</td>\n",
       "      <td>0.064377</td>\n",
       "    </tr>\n",
       "    <tr>\n",
       "      <th>(165400.0, 180000.0]</th>\n",
       "      <td>-11.837</td>\n",
       "      <td>15148.481355</td>\n",
       "      <td>0.061726</td>\n",
       "    </tr>\n",
       "    <tr>\n",
       "      <th>(180000.0, 200500.0]</th>\n",
       "      <td>-84.078</td>\n",
       "      <td>54513.650377</td>\n",
       "      <td>0.105860</td>\n",
       "    </tr>\n",
       "    <tr>\n",
       "      <th>(200500.0, 227000.0]</th>\n",
       "      <td>-2.741</td>\n",
       "      <td>14514.839594</td>\n",
       "      <td>0.052992</td>\n",
       "    </tr>\n",
       "    <tr>\n",
       "      <th>(227000.0, 276000.0]</th>\n",
       "      <td>-2.971</td>\n",
       "      <td>27752.548319</td>\n",
       "      <td>0.084036</td>\n",
       "    </tr>\n",
       "    <tr>\n",
       "      <th>(276000.0, 615000.0]</th>\n",
       "      <td>0.607</td>\n",
       "      <td>50420.295805</td>\n",
       "      <td>0.088051</td>\n",
       "    </tr>\n",
       "  </tbody>\n",
       "</table>\n",
       "</div>"
      ],
      "text/plain": [
       "                      R2 Score          RMSE      MAPE\n",
       "StreetRateBins                                        \n",
       "(44999.999, 108000.0]   -0.062  14406.677864  0.118491\n",
       "(108000.0, 125500.0]    -3.835  10922.273609  0.068707\n",
       "(125500.0, 138000.0]   -10.414  12391.131545  0.066173\n",
       "(138000.0, 149000.0]    -7.566   9222.971964  0.049732\n",
       "(149000.0, 165400.0]    -8.176  12615.343088  0.064377\n",
       "(165400.0, 180000.0]   -11.837  15148.481355  0.061726\n",
       "(180000.0, 200500.0]   -84.078  54513.650377  0.105860\n",
       "(200500.0, 227000.0]    -2.741  14514.839594  0.052992\n",
       "(227000.0, 276000.0]    -2.971  27752.548319  0.084036\n",
       "(276000.0, 615000.0]     0.607  50420.295805  0.088051"
      ]
     },
     "execution_count": 53,
     "metadata": {},
     "output_type": "execute_result"
    }
   ],
   "source": [
    "results.groupby(by=['StreetRateBins'])[['Price', 'PredictedPrice']].apply(regression_metrics)"
   ]
  },
  {
   "cell_type": "markdown",
   "id": "6e911249",
   "metadata": {},
   "source": [
    "The model seems to struggle for houses that were sold in the 180-200k range."
   ]
  },
  {
   "cell_type": "code",
   "execution_count": 55,
   "id": "6526e24a",
   "metadata": {
    "ExecuteTime": {
     "end_time": "2023-03-03T03:49:03.284472Z",
     "start_time": "2023-03-03T03:49:03.250488Z"
    }
   },
   "outputs": [
    {
     "data": {
      "text/html": [
       "<div>\n",
       "<style scoped>\n",
       "    .dataframe tbody tr th:only-of-type {\n",
       "        vertical-align: middle;\n",
       "    }\n",
       "\n",
       "    .dataframe tbody tr th {\n",
       "        vertical-align: top;\n",
       "    }\n",
       "\n",
       "    .dataframe thead th {\n",
       "        text-align: right;\n",
       "    }\n",
       "</style>\n",
       "<table border=\"1\" class=\"dataframe\">\n",
       "  <thead>\n",
       "    <tr style=\"text-align: right;\">\n",
       "      <th></th>\n",
       "      <th>R2 Score</th>\n",
       "      <th>RMSE</th>\n",
       "      <th>MAPE</th>\n",
       "    </tr>\n",
       "    <tr>\n",
       "      <th>OverallCond</th>\n",
       "      <th></th>\n",
       "      <th></th>\n",
       "      <th></th>\n",
       "    </tr>\n",
       "  </thead>\n",
       "  <tbody>\n",
       "    <tr>\n",
       "      <th>1</th>\n",
       "      <td>0.436</td>\n",
       "      <td>13486.687716</td>\n",
       "      <td>0.131914</td>\n",
       "    </tr>\n",
       "    <tr>\n",
       "      <th>2</th>\n",
       "      <td>-1.309</td>\n",
       "      <td>13676.655724</td>\n",
       "      <td>0.183785</td>\n",
       "    </tr>\n",
       "    <tr>\n",
       "      <th>3</th>\n",
       "      <td>0.838</td>\n",
       "      <td>18848.741242</td>\n",
       "      <td>0.103906</td>\n",
       "    </tr>\n",
       "    <tr>\n",
       "      <th>4</th>\n",
       "      <td>0.805</td>\n",
       "      <td>24108.071627</td>\n",
       "      <td>0.112045</td>\n",
       "    </tr>\n",
       "    <tr>\n",
       "      <th>5</th>\n",
       "      <td>0.856</td>\n",
       "      <td>32553.200192</td>\n",
       "      <td>0.075772</td>\n",
       "    </tr>\n",
       "    <tr>\n",
       "      <th>6</th>\n",
       "      <td>0.847</td>\n",
       "      <td>16260.255328</td>\n",
       "      <td>0.071542</td>\n",
       "    </tr>\n",
       "    <tr>\n",
       "      <th>7</th>\n",
       "      <td>0.891</td>\n",
       "      <td>14529.033869</td>\n",
       "      <td>0.072144</td>\n",
       "    </tr>\n",
       "    <tr>\n",
       "      <th>8</th>\n",
       "      <td>0.802</td>\n",
       "      <td>12581.121475</td>\n",
       "      <td>0.059155</td>\n",
       "    </tr>\n",
       "    <tr>\n",
       "      <th>9</th>\n",
       "      <td>0.316</td>\n",
       "      <td>24436.745845</td>\n",
       "      <td>0.091490</td>\n",
       "    </tr>\n",
       "  </tbody>\n",
       "</table>\n",
       "</div>"
      ],
      "text/plain": [
       "            R2 Score          RMSE      MAPE\n",
       "OverallCond                                 \n",
       "1              0.436  13486.687716  0.131914\n",
       "2             -1.309  13676.655724  0.183785\n",
       "3              0.838  18848.741242  0.103906\n",
       "4              0.805  24108.071627  0.112045\n",
       "5              0.856  32553.200192  0.075772\n",
       "6              0.847  16260.255328  0.071542\n",
       "7              0.891  14529.033869  0.072144\n",
       "8              0.802  12581.121475  0.059155\n",
       "9              0.316  24436.745845  0.091490"
      ]
     },
     "execution_count": 55,
     "metadata": {},
     "output_type": "execute_result"
    }
   ],
   "source": [
    "results.groupby(by=['OverallCond'])[['Price', 'PredictedPrice']].apply(regression_metrics)"
   ]
  },
  {
   "cell_type": "markdown",
   "id": "2e860eda",
   "metadata": {},
   "source": [
    "The model also struggles the most for lower quality houses, and houses with perfect quality scores. Overall the predictions are still around 25,000 RMSE (without removing the test outliers) and have a R-squared of 0.89 which is a good fit."
   ]
  }
 ],
 "metadata": {
  "hide_input": false,
  "kernelspec": {
   "display_name": "Python 3",
   "language": "python",
   "name": "python3"
  },
  "language_info": {
   "codemirror_mode": {
    "name": "ipython",
    "version": 3
   },
   "file_extension": ".py",
   "mimetype": "text/x-python",
   "name": "python",
   "nbconvert_exporter": "python",
   "pygments_lexer": "ipython3",
   "version": "3.8.8"
  }
 },
 "nbformat": 4,
 "nbformat_minor": 5
}
