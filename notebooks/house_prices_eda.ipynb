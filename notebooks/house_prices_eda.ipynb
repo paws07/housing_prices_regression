{
 "cells": [
  {
   "cell_type": "markdown",
   "id": "b0f9c499",
   "metadata": {},
   "source": [
    "# Exploratory Data Analysis (EDA)"
   ]
  },
  {
   "cell_type": "code",
   "execution_count": 1,
   "id": "0d2ece17",
   "metadata": {
    "ExecuteTime": {
     "end_time": "2023-03-03T03:30:00.794956Z",
     "start_time": "2023-03-03T03:29:59.065092Z"
    }
   },
   "outputs": [],
   "source": [
    "import pandas as pd\n",
    "import numpy as np\n",
    "import seaborn as sns\n",
    "import matplotlib.pyplot as plt"
   ]
  },
  {
   "cell_type": "code",
   "execution_count": 2,
   "id": "a7f2bcd1",
   "metadata": {
    "ExecuteTime": {
     "end_time": "2023-03-03T03:30:08.354036Z",
     "start_time": "2023-03-03T03:30:08.167361Z"
    }
   },
   "outputs": [],
   "source": [
    "# Read the clean dataset\n",
    "prices = pd.read_parquet(r'..\\data\\processed\\training_cleaned.parquet')"
   ]
  },
  {
   "cell_type": "code",
   "execution_count": 3,
   "id": "c5fb2ad3",
   "metadata": {
    "ExecuteTime": {
     "end_time": "2023-03-03T03:30:13.096125Z",
     "start_time": "2023-03-03T03:30:13.041339Z"
    }
   },
   "outputs": [
    {
     "data": {
      "text/html": [
       "<div>\n",
       "<style scoped>\n",
       "    .dataframe tbody tr th:only-of-type {\n",
       "        vertical-align: middle;\n",
       "    }\n",
       "\n",
       "    .dataframe tbody tr th {\n",
       "        vertical-align: top;\n",
       "    }\n",
       "\n",
       "    .dataframe thead th {\n",
       "        text-align: right;\n",
       "    }\n",
       "</style>\n",
       "<table border=\"1\" class=\"dataframe\">\n",
       "  <thead>\n",
       "    <tr style=\"text-align: right;\">\n",
       "      <th></th>\n",
       "      <th>BedroomAbvGr</th>\n",
       "      <th>BldgType</th>\n",
       "      <th>BsmtCond</th>\n",
       "      <th>BsmtFinSF1</th>\n",
       "      <th>BsmtFinType1</th>\n",
       "      <th>BsmtQual</th>\n",
       "      <th>CentralAir</th>\n",
       "      <th>Electrical</th>\n",
       "      <th>EnclosedPorch</th>\n",
       "      <th>ExterCond</th>\n",
       "      <th>ExterQual</th>\n",
       "      <th>Fireplaces</th>\n",
       "      <th>Foundation</th>\n",
       "      <th>Functional</th>\n",
       "      <th>GarageArea</th>\n",
       "      <th>GarageCars</th>\n",
       "      <th>GarageType</th>\n",
       "      <th>Heating</th>\n",
       "      <th>HeatingQC</th>\n",
       "      <th>HouseStyle</th>\n",
       "      <th>KitchenAbvGr</th>\n",
       "      <th>KitchenQual</th>\n",
       "      <th>LandContour</th>\n",
       "      <th>LotArea</th>\n",
       "      <th>LotConfig</th>\n",
       "      <th>LotShape</th>\n",
       "      <th>LowQualFinSF</th>\n",
       "      <th>MSSubClass</th>\n",
       "      <th>MSZoning</th>\n",
       "      <th>Neighborhood</th>\n",
       "      <th>OpenPorchSF</th>\n",
       "      <th>OverallCond</th>\n",
       "      <th>OverallQual</th>\n",
       "      <th>PavedDrive</th>\n",
       "      <th>PoolArea</th>\n",
       "      <th>SaleCondition</th>\n",
       "      <th>ScreenPorch</th>\n",
       "      <th>Street</th>\n",
       "      <th>TotRmsAbvGrd</th>\n",
       "      <th>TotalBsmtSF</th>\n",
       "      <th>Utilities</th>\n",
       "      <th>WoodDeckSF</th>\n",
       "      <th>X1stFlrSF</th>\n",
       "      <th>X2ndFlrSF</th>\n",
       "      <th>X3SsnPorch</th>\n",
       "      <th>YearRemodAdd</th>\n",
       "      <th>YrSold</th>\n",
       "      <th>area</th>\n",
       "      <th>price</th>\n",
       "    </tr>\n",
       "  </thead>\n",
       "  <tbody>\n",
       "    <tr>\n",
       "      <th>557</th>\n",
       "      <td>2</td>\n",
       "      <td>1Fam</td>\n",
       "      <td>TA</td>\n",
       "      <td>864</td>\n",
       "      <td>BLQ</td>\n",
       "      <td>TA</td>\n",
       "      <td>Y</td>\n",
       "      <td>SBrkr</td>\n",
       "      <td>0</td>\n",
       "      <td>TA</td>\n",
       "      <td>TA</td>\n",
       "      <td>0</td>\n",
       "      <td>CBlock</td>\n",
       "      <td>Typ</td>\n",
       "      <td>440</td>\n",
       "      <td>1</td>\n",
       "      <td>Attchd</td>\n",
       "      <td>GasA</td>\n",
       "      <td>TA</td>\n",
       "      <td>1Story</td>\n",
       "      <td>1</td>\n",
       "      <td>TA</td>\n",
       "      <td>Lvl</td>\n",
       "      <td>9079</td>\n",
       "      <td>Inside</td>\n",
       "      <td>IR1</td>\n",
       "      <td>0</td>\n",
       "      <td>20</td>\n",
       "      <td>RL</td>\n",
       "      <td>Sawyer</td>\n",
       "      <td>0</td>\n",
       "      <td>5</td>\n",
       "      <td>5</td>\n",
       "      <td>Y</td>\n",
       "      <td>0</td>\n",
       "      <td>Normal</td>\n",
       "      <td>0</td>\n",
       "      <td>Pave</td>\n",
       "      <td>5</td>\n",
       "      <td>864</td>\n",
       "      <td>AllPub</td>\n",
       "      <td>158</td>\n",
       "      <td>864</td>\n",
       "      <td>0</td>\n",
       "      <td>0</td>\n",
       "      <td>1961</td>\n",
       "      <td>2009</td>\n",
       "      <td>864</td>\n",
       "      <td>122000</td>\n",
       "    </tr>\n",
       "    <tr>\n",
       "      <th>2255</th>\n",
       "      <td>2</td>\n",
       "      <td>TwnhsE</td>\n",
       "      <td>TA</td>\n",
       "      <td>949</td>\n",
       "      <td>GLQ</td>\n",
       "      <td>Gd</td>\n",
       "      <td>Y</td>\n",
       "      <td>SBrkr</td>\n",
       "      <td>0</td>\n",
       "      <td>TA</td>\n",
       "      <td>Gd</td>\n",
       "      <td>2</td>\n",
       "      <td>BrkTil</td>\n",
       "      <td>Typ</td>\n",
       "      <td>512</td>\n",
       "      <td>2</td>\n",
       "      <td>Attchd</td>\n",
       "      <td>GasA</td>\n",
       "      <td>Ex</td>\n",
       "      <td>1Story</td>\n",
       "      <td>1</td>\n",
       "      <td>Gd</td>\n",
       "      <td>Lvl</td>\n",
       "      <td>4054</td>\n",
       "      <td>Inside</td>\n",
       "      <td>IR1</td>\n",
       "      <td>0</td>\n",
       "      <td>120</td>\n",
       "      <td>RL</td>\n",
       "      <td>Timber</td>\n",
       "      <td>0</td>\n",
       "      <td>6</td>\n",
       "      <td>7</td>\n",
       "      <td>Y</td>\n",
       "      <td>0</td>\n",
       "      <td>Normal</td>\n",
       "      <td>0</td>\n",
       "      <td>Pave</td>\n",
       "      <td>5</td>\n",
       "      <td>1501</td>\n",
       "      <td>AllPub</td>\n",
       "      <td>240</td>\n",
       "      <td>1501</td>\n",
       "      <td>0</td>\n",
       "      <td>0</td>\n",
       "      <td>1987</td>\n",
       "      <td>2007</td>\n",
       "      <td>1501</td>\n",
       "      <td>244000</td>\n",
       "    </tr>\n",
       "    <tr>\n",
       "      <th>2813</th>\n",
       "      <td>3</td>\n",
       "      <td>1Fam</td>\n",
       "      <td>TA</td>\n",
       "      <td>0</td>\n",
       "      <td>Unf</td>\n",
       "      <td>Gd</td>\n",
       "      <td>Y</td>\n",
       "      <td>SBrkr</td>\n",
       "      <td>0</td>\n",
       "      <td>TA</td>\n",
       "      <td>TA</td>\n",
       "      <td>0</td>\n",
       "      <td>PConc</td>\n",
       "      <td>Typ</td>\n",
       "      <td>564</td>\n",
       "      <td>2</td>\n",
       "      <td>Attchd</td>\n",
       "      <td>GasA</td>\n",
       "      <td>Ex</td>\n",
       "      <td>2Story</td>\n",
       "      <td>1</td>\n",
       "      <td>Gd</td>\n",
       "      <td>Lvl</td>\n",
       "      <td>8846</td>\n",
       "      <td>Inside</td>\n",
       "      <td>Reg</td>\n",
       "      <td>0</td>\n",
       "      <td>60</td>\n",
       "      <td>RL</td>\n",
       "      <td>CollgCr</td>\n",
       "      <td>35</td>\n",
       "      <td>5</td>\n",
       "      <td>6</td>\n",
       "      <td>Y</td>\n",
       "      <td>0</td>\n",
       "      <td>Partial</td>\n",
       "      <td>0</td>\n",
       "      <td>Pave</td>\n",
       "      <td>6</td>\n",
       "      <td>750</td>\n",
       "      <td>AllPub</td>\n",
       "      <td>0</td>\n",
       "      <td>750</td>\n",
       "      <td>750</td>\n",
       "      <td>0</td>\n",
       "      <td>2006</td>\n",
       "      <td>2006</td>\n",
       "      <td>1500</td>\n",
       "      <td>173900</td>\n",
       "    </tr>\n",
       "    <tr>\n",
       "      <th>2137</th>\n",
       "      <td>3</td>\n",
       "      <td>1Fam</td>\n",
       "      <td>TA</td>\n",
       "      <td>539</td>\n",
       "      <td>ALQ</td>\n",
       "      <td>Gd</td>\n",
       "      <td>Y</td>\n",
       "      <td>SBrkr</td>\n",
       "      <td>0</td>\n",
       "      <td>TA</td>\n",
       "      <td>TA</td>\n",
       "      <td>0</td>\n",
       "      <td>CBlock</td>\n",
       "      <td>Typ</td>\n",
       "      <td>748</td>\n",
       "      <td>2</td>\n",
       "      <td>Detchd</td>\n",
       "      <td>GasA</td>\n",
       "      <td>TA</td>\n",
       "      <td>1Story</td>\n",
       "      <td>1</td>\n",
       "      <td>TA</td>\n",
       "      <td>Lvl</td>\n",
       "      <td>8982</td>\n",
       "      <td>CulDSac</td>\n",
       "      <td>IR1</td>\n",
       "      <td>0</td>\n",
       "      <td>20</td>\n",
       "      <td>RL</td>\n",
       "      <td>CollgCr</td>\n",
       "      <td>0</td>\n",
       "      <td>5</td>\n",
       "      <td>5</td>\n",
       "      <td>Y</td>\n",
       "      <td>0</td>\n",
       "      <td>Normal</td>\n",
       "      <td>0</td>\n",
       "      <td>Pave</td>\n",
       "      <td>5</td>\n",
       "      <td>1040</td>\n",
       "      <td>AllPub</td>\n",
       "      <td>0</td>\n",
       "      <td>1040</td>\n",
       "      <td>0</td>\n",
       "      <td>0</td>\n",
       "      <td>1977</td>\n",
       "      <td>2007</td>\n",
       "      <td>1040</td>\n",
       "      <td>134900</td>\n",
       "    </tr>\n",
       "    <tr>\n",
       "      <th>917</th>\n",
       "      <td>3</td>\n",
       "      <td>1Fam</td>\n",
       "      <td>Fa</td>\n",
       "      <td>0</td>\n",
       "      <td>Unf</td>\n",
       "      <td>TA</td>\n",
       "      <td>Y</td>\n",
       "      <td>SBrkr</td>\n",
       "      <td>0</td>\n",
       "      <td>TA</td>\n",
       "      <td>TA</td>\n",
       "      <td>1</td>\n",
       "      <td>BrkTil</td>\n",
       "      <td>Typ</td>\n",
       "      <td>215</td>\n",
       "      <td>1</td>\n",
       "      <td>Detchd</td>\n",
       "      <td>GasA</td>\n",
       "      <td>Ex</td>\n",
       "      <td>2Story</td>\n",
       "      <td>1</td>\n",
       "      <td>TA</td>\n",
       "      <td>Lvl</td>\n",
       "      <td>7155</td>\n",
       "      <td>Inside</td>\n",
       "      <td>Reg</td>\n",
       "      <td>0</td>\n",
       "      <td>70</td>\n",
       "      <td>RL</td>\n",
       "      <td>Crawfor</td>\n",
       "      <td>113</td>\n",
       "      <td>8</td>\n",
       "      <td>7</td>\n",
       "      <td>Y</td>\n",
       "      <td>0</td>\n",
       "      <td>Normal</td>\n",
       "      <td>195</td>\n",
       "      <td>Pave</td>\n",
       "      <td>6</td>\n",
       "      <td>600</td>\n",
       "      <td>AllPub</td>\n",
       "      <td>0</td>\n",
       "      <td>628</td>\n",
       "      <td>600</td>\n",
       "      <td>0</td>\n",
       "      <td>1990</td>\n",
       "      <td>2009</td>\n",
       "      <td>1228</td>\n",
       "      <td>137000</td>\n",
       "    </tr>\n",
       "    <tr>\n",
       "      <th>684</th>\n",
       "      <td>3</td>\n",
       "      <td>1Fam</td>\n",
       "      <td>TA</td>\n",
       "      <td>1148</td>\n",
       "      <td>BLQ</td>\n",
       "      <td>TA</td>\n",
       "      <td>Y</td>\n",
       "      <td>SBrkr</td>\n",
       "      <td>0</td>\n",
       "      <td>TA</td>\n",
       "      <td>TA</td>\n",
       "      <td>0</td>\n",
       "      <td>CBlock</td>\n",
       "      <td>Typ</td>\n",
       "      <td>672</td>\n",
       "      <td>1</td>\n",
       "      <td>Attchd</td>\n",
       "      <td>GasA</td>\n",
       "      <td>TA</td>\n",
       "      <td>1Story</td>\n",
       "      <td>1</td>\n",
       "      <td>TA</td>\n",
       "      <td>Lvl</td>\n",
       "      <td>7931</td>\n",
       "      <td>Inside</td>\n",
       "      <td>Reg</td>\n",
       "      <td>0</td>\n",
       "      <td>20</td>\n",
       "      <td>RL</td>\n",
       "      <td>NAmes</td>\n",
       "      <td>0</td>\n",
       "      <td>5</td>\n",
       "      <td>5</td>\n",
       "      <td>Y</td>\n",
       "      <td>0</td>\n",
       "      <td>Normal</td>\n",
       "      <td>0</td>\n",
       "      <td>Pave</td>\n",
       "      <td>6</td>\n",
       "      <td>1148</td>\n",
       "      <td>AllPub</td>\n",
       "      <td>0</td>\n",
       "      <td>1148</td>\n",
       "      <td>0</td>\n",
       "      <td>0</td>\n",
       "      <td>1959</td>\n",
       "      <td>2009</td>\n",
       "      <td>1148</td>\n",
       "      <td>132500</td>\n",
       "    </tr>\n",
       "    <tr>\n",
       "      <th>1489</th>\n",
       "      <td>3</td>\n",
       "      <td>1Fam</td>\n",
       "      <td>Gd</td>\n",
       "      <td>456</td>\n",
       "      <td>ALQ</td>\n",
       "      <td>Gd</td>\n",
       "      <td>Y</td>\n",
       "      <td>SBrkr</td>\n",
       "      <td>0</td>\n",
       "      <td>TA</td>\n",
       "      <td>TA</td>\n",
       "      <td>0</td>\n",
       "      <td>CBlock</td>\n",
       "      <td>Typ</td>\n",
       "      <td>504</td>\n",
       "      <td>2</td>\n",
       "      <td>BuiltIn</td>\n",
       "      <td>GasA</td>\n",
       "      <td>Ex</td>\n",
       "      <td>SFoyer</td>\n",
       "      <td>1</td>\n",
       "      <td>TA</td>\n",
       "      <td>Lvl</td>\n",
       "      <td>12102</td>\n",
       "      <td>Inside</td>\n",
       "      <td>Reg</td>\n",
       "      <td>0</td>\n",
       "      <td>85</td>\n",
       "      <td>RL</td>\n",
       "      <td>Edwards</td>\n",
       "      <td>0</td>\n",
       "      <td>5</td>\n",
       "      <td>5</td>\n",
       "      <td>Y</td>\n",
       "      <td>0</td>\n",
       "      <td>Family</td>\n",
       "      <td>0</td>\n",
       "      <td>Pave</td>\n",
       "      <td>6</td>\n",
       "      <td>456</td>\n",
       "      <td>AllPub</td>\n",
       "      <td>224</td>\n",
       "      <td>1033</td>\n",
       "      <td>0</td>\n",
       "      <td>0</td>\n",
       "      <td>1976</td>\n",
       "      <td>2008</td>\n",
       "      <td>1033</td>\n",
       "      <td>165000</td>\n",
       "    </tr>\n",
       "    <tr>\n",
       "      <th>2246</th>\n",
       "      <td>2</td>\n",
       "      <td>TwnhsE</td>\n",
       "      <td>TA</td>\n",
       "      <td>1573</td>\n",
       "      <td>GLQ</td>\n",
       "      <td>Gd</td>\n",
       "      <td>Y</td>\n",
       "      <td>SBrkr</td>\n",
       "      <td>0</td>\n",
       "      <td>TA</td>\n",
       "      <td>Gd</td>\n",
       "      <td>1</td>\n",
       "      <td>PConc</td>\n",
       "      <td>Typ</td>\n",
       "      <td>538</td>\n",
       "      <td>2</td>\n",
       "      <td>Attchd</td>\n",
       "      <td>GasA</td>\n",
       "      <td>Ex</td>\n",
       "      <td>1Story</td>\n",
       "      <td>1</td>\n",
       "      <td>Gd</td>\n",
       "      <td>HLS</td>\n",
       "      <td>4750</td>\n",
       "      <td>Inside</td>\n",
       "      <td>IR1</td>\n",
       "      <td>0</td>\n",
       "      <td>120</td>\n",
       "      <td>RM</td>\n",
       "      <td>Crawfor</td>\n",
       "      <td>0</td>\n",
       "      <td>5</td>\n",
       "      <td>8</td>\n",
       "      <td>Y</td>\n",
       "      <td>0</td>\n",
       "      <td>Family</td>\n",
       "      <td>153</td>\n",
       "      <td>Pave</td>\n",
       "      <td>5</td>\n",
       "      <td>1573</td>\n",
       "      <td>AllPub</td>\n",
       "      <td>123</td>\n",
       "      <td>1625</td>\n",
       "      <td>0</td>\n",
       "      <td>0</td>\n",
       "      <td>2007</td>\n",
       "      <td>2007</td>\n",
       "      <td>1625</td>\n",
       "      <td>235000</td>\n",
       "    </tr>\n",
       "    <tr>\n",
       "      <th>2386</th>\n",
       "      <td>4</td>\n",
       "      <td>1Fam</td>\n",
       "      <td>TA</td>\n",
       "      <td>0</td>\n",
       "      <td>Unf</td>\n",
       "      <td>Ex</td>\n",
       "      <td>Y</td>\n",
       "      <td>SBrkr</td>\n",
       "      <td>0</td>\n",
       "      <td>TA</td>\n",
       "      <td>Gd</td>\n",
       "      <td>1</td>\n",
       "      <td>PConc</td>\n",
       "      <td>Typ</td>\n",
       "      <td>853</td>\n",
       "      <td>3</td>\n",
       "      <td>BuiltIn</td>\n",
       "      <td>GasA</td>\n",
       "      <td>Ex</td>\n",
       "      <td>2Story</td>\n",
       "      <td>1</td>\n",
       "      <td>Gd</td>\n",
       "      <td>Lvl</td>\n",
       "      <td>14215</td>\n",
       "      <td>Corner</td>\n",
       "      <td>IR1</td>\n",
       "      <td>0</td>\n",
       "      <td>60</td>\n",
       "      <td>RL</td>\n",
       "      <td>NridgHt</td>\n",
       "      <td>154</td>\n",
       "      <td>5</td>\n",
       "      <td>8</td>\n",
       "      <td>Y</td>\n",
       "      <td>0</td>\n",
       "      <td>Partial</td>\n",
       "      <td>0</td>\n",
       "      <td>Pave</td>\n",
       "      <td>9</td>\n",
       "      <td>1158</td>\n",
       "      <td>AllPub</td>\n",
       "      <td>240</td>\n",
       "      <td>1158</td>\n",
       "      <td>1218</td>\n",
       "      <td>0</td>\n",
       "      <td>2006</td>\n",
       "      <td>2006</td>\n",
       "      <td>2376</td>\n",
       "      <td>325300</td>\n",
       "    </tr>\n",
       "    <tr>\n",
       "      <th>341</th>\n",
       "      <td>2</td>\n",
       "      <td>1Fam</td>\n",
       "      <td>Fa</td>\n",
       "      <td>564</td>\n",
       "      <td>Rec</td>\n",
       "      <td>Fa</td>\n",
       "      <td>Y</td>\n",
       "      <td>SBrkr</td>\n",
       "      <td>0</td>\n",
       "      <td>TA</td>\n",
       "      <td>TA</td>\n",
       "      <td>0</td>\n",
       "      <td>CBlock</td>\n",
       "      <td>Typ</td>\n",
       "      <td>502</td>\n",
       "      <td>1</td>\n",
       "      <td>Attchd</td>\n",
       "      <td>GasA</td>\n",
       "      <td>TA</td>\n",
       "      <td>1Story</td>\n",
       "      <td>1</td>\n",
       "      <td>TA</td>\n",
       "      <td>Lvl</td>\n",
       "      <td>13008</td>\n",
       "      <td>Inside</td>\n",
       "      <td>IR1</td>\n",
       "      <td>0</td>\n",
       "      <td>20</td>\n",
       "      <td>RL</td>\n",
       "      <td>NAmes</td>\n",
       "      <td>0</td>\n",
       "      <td>5</td>\n",
       "      <td>6</td>\n",
       "      <td>Y</td>\n",
       "      <td>0</td>\n",
       "      <td>Normal</td>\n",
       "      <td>0</td>\n",
       "      <td>Pave</td>\n",
       "      <td>5</td>\n",
       "      <td>882</td>\n",
       "      <td>AllPub</td>\n",
       "      <td>0</td>\n",
       "      <td>882</td>\n",
       "      <td>0</td>\n",
       "      <td>0</td>\n",
       "      <td>1956</td>\n",
       "      <td>2009</td>\n",
       "      <td>882</td>\n",
       "      <td>124500</td>\n",
       "    </tr>\n",
       "  </tbody>\n",
       "</table>\n",
       "</div>"
      ],
      "text/plain": [
       "      BedroomAbvGr BldgType BsmtCond  BsmtFinSF1 BsmtFinType1 BsmtQual  \\\n",
       "557              2     1Fam       TA         864          BLQ       TA   \n",
       "2255             2   TwnhsE       TA         949          GLQ       Gd   \n",
       "2813             3     1Fam       TA           0          Unf       Gd   \n",
       "2137             3     1Fam       TA         539          ALQ       Gd   \n",
       "917              3     1Fam       Fa           0          Unf       TA   \n",
       "684              3     1Fam       TA        1148          BLQ       TA   \n",
       "1489             3     1Fam       Gd         456          ALQ       Gd   \n",
       "2246             2   TwnhsE       TA        1573          GLQ       Gd   \n",
       "2386             4     1Fam       TA           0          Unf       Ex   \n",
       "341              2     1Fam       Fa         564          Rec       Fa   \n",
       "\n",
       "     CentralAir Electrical  EnclosedPorch ExterCond ExterQual  Fireplaces  \\\n",
       "557           Y      SBrkr              0        TA        TA           0   \n",
       "2255          Y      SBrkr              0        TA        Gd           2   \n",
       "2813          Y      SBrkr              0        TA        TA           0   \n",
       "2137          Y      SBrkr              0        TA        TA           0   \n",
       "917           Y      SBrkr              0        TA        TA           1   \n",
       "684           Y      SBrkr              0        TA        TA           0   \n",
       "1489          Y      SBrkr              0        TA        TA           0   \n",
       "2246          Y      SBrkr              0        TA        Gd           1   \n",
       "2386          Y      SBrkr              0        TA        Gd           1   \n",
       "341           Y      SBrkr              0        TA        TA           0   \n",
       "\n",
       "     Foundation Functional  GarageArea  GarageCars GarageType Heating  \\\n",
       "557      CBlock        Typ         440           1     Attchd    GasA   \n",
       "2255     BrkTil        Typ         512           2     Attchd    GasA   \n",
       "2813      PConc        Typ         564           2     Attchd    GasA   \n",
       "2137     CBlock        Typ         748           2     Detchd    GasA   \n",
       "917      BrkTil        Typ         215           1     Detchd    GasA   \n",
       "684      CBlock        Typ         672           1     Attchd    GasA   \n",
       "1489     CBlock        Typ         504           2    BuiltIn    GasA   \n",
       "2246      PConc        Typ         538           2     Attchd    GasA   \n",
       "2386      PConc        Typ         853           3    BuiltIn    GasA   \n",
       "341      CBlock        Typ         502           1     Attchd    GasA   \n",
       "\n",
       "     HeatingQC HouseStyle  KitchenAbvGr KitchenQual LandContour  LotArea  \\\n",
       "557         TA     1Story             1          TA         Lvl     9079   \n",
       "2255        Ex     1Story             1          Gd         Lvl     4054   \n",
       "2813        Ex     2Story             1          Gd         Lvl     8846   \n",
       "2137        TA     1Story             1          TA         Lvl     8982   \n",
       "917         Ex     2Story             1          TA         Lvl     7155   \n",
       "684         TA     1Story             1          TA         Lvl     7931   \n",
       "1489        Ex     SFoyer             1          TA         Lvl    12102   \n",
       "2246        Ex     1Story             1          Gd         HLS     4750   \n",
       "2386        Ex     2Story             1          Gd         Lvl    14215   \n",
       "341         TA     1Story             1          TA         Lvl    13008   \n",
       "\n",
       "     LotConfig LotShape  LowQualFinSF  MSSubClass MSZoning Neighborhood  \\\n",
       "557     Inside      IR1             0          20       RL       Sawyer   \n",
       "2255    Inside      IR1             0         120       RL       Timber   \n",
       "2813    Inside      Reg             0          60       RL      CollgCr   \n",
       "2137   CulDSac      IR1             0          20       RL      CollgCr   \n",
       "917     Inside      Reg             0          70       RL      Crawfor   \n",
       "684     Inside      Reg             0          20       RL        NAmes   \n",
       "1489    Inside      Reg             0          85       RL      Edwards   \n",
       "2246    Inside      IR1             0         120       RM      Crawfor   \n",
       "2386    Corner      IR1             0          60       RL      NridgHt   \n",
       "341     Inside      IR1             0          20       RL        NAmes   \n",
       "\n",
       "      OpenPorchSF  OverallCond  OverallQual PavedDrive  PoolArea  \\\n",
       "557             0            5            5          Y         0   \n",
       "2255            0            6            7          Y         0   \n",
       "2813           35            5            6          Y         0   \n",
       "2137            0            5            5          Y         0   \n",
       "917           113            8            7          Y         0   \n",
       "684             0            5            5          Y         0   \n",
       "1489            0            5            5          Y         0   \n",
       "2246            0            5            8          Y         0   \n",
       "2386          154            5            8          Y         0   \n",
       "341             0            5            6          Y         0   \n",
       "\n",
       "     SaleCondition  ScreenPorch Street  TotRmsAbvGrd  TotalBsmtSF Utilities  \\\n",
       "557         Normal            0   Pave             5          864    AllPub   \n",
       "2255        Normal            0   Pave             5         1501    AllPub   \n",
       "2813       Partial            0   Pave             6          750    AllPub   \n",
       "2137        Normal            0   Pave             5         1040    AllPub   \n",
       "917         Normal          195   Pave             6          600    AllPub   \n",
       "684         Normal            0   Pave             6         1148    AllPub   \n",
       "1489        Family            0   Pave             6          456    AllPub   \n",
       "2246        Family          153   Pave             5         1573    AllPub   \n",
       "2386       Partial            0   Pave             9         1158    AllPub   \n",
       "341         Normal            0   Pave             5          882    AllPub   \n",
       "\n",
       "      WoodDeckSF  X1stFlrSF  X2ndFlrSF  X3SsnPorch  YearRemodAdd  YrSold  \\\n",
       "557          158        864          0           0          1961    2009   \n",
       "2255         240       1501          0           0          1987    2007   \n",
       "2813           0        750        750           0          2006    2006   \n",
       "2137           0       1040          0           0          1977    2007   \n",
       "917            0        628        600           0          1990    2009   \n",
       "684            0       1148          0           0          1959    2009   \n",
       "1489         224       1033          0           0          1976    2008   \n",
       "2246         123       1625          0           0          2007    2007   \n",
       "2386         240       1158       1218           0          2006    2006   \n",
       "341            0        882          0           0          1956    2009   \n",
       "\n",
       "      area   price  \n",
       "557    864  122000  \n",
       "2255  1501  244000  \n",
       "2813  1500  173900  \n",
       "2137  1040  134900  \n",
       "917   1228  137000  \n",
       "684   1148  132500  \n",
       "1489  1033  165000  \n",
       "2246  1625  235000  \n",
       "2386  2376  325300  \n",
       "341    882  124500  "
      ]
     },
     "metadata": {},
     "output_type": "display_data"
    }
   ],
   "source": [
    "# Look at columns\n",
    "with pd.option_context(\"display.max_columns\", None):\n",
    "    display(prices[sorted(prices.columns)].sample(10))"
   ]
  },
  {
   "cell_type": "code",
   "execution_count": 4,
   "id": "2bc9a2fd",
   "metadata": {
    "ExecuteTime": {
     "end_time": "2023-03-03T03:30:15.166442Z",
     "start_time": "2023-03-03T03:30:14.717668Z"
    }
   },
   "outputs": [
    {
     "data": {
      "text/plain": [
       "<AxesSubplot: >"
      ]
     },
     "execution_count": 4,
     "metadata": {},
     "output_type": "execute_result"
    },
    {
     "data": {
      "image/png": "[encoded data removed]",
      "text/plain": [
       "<Figure size 1440x1080 with 2 Axes>"
      ]
     },
     "metadata": {
      "needs_background": "light"
     },
     "output_type": "display_data"
    }
   ],
   "source": [
    "# Plot correlation\n",
    "corr = prices.corr()\n",
    "mask = np.triu(np.ones_like(corr, dtype=bool))\n",
    "\n",
    "plt.figure(figsize=(20,15))\n",
    "sns.heatmap(corr, \n",
    "            cmap=\"vlag\",\n",
    "            mask=mask, \n",
    "            linewidths=1)"
   ]
  },
  {
   "cell_type": "markdown",
   "id": "a254b0a6",
   "metadata": {},
   "source": [
    "We see high correlations for OverallQuality and some other area based features. These are expected as the former is just an aggregate of how good of a condition the house is in. The latter also has a positive correlation because land prices come into account."
   ]
  },
  {
   "cell_type": "code",
   "execution_count": 15,
   "id": "2a99acb2",
   "metadata": {
    "ExecuteTime": {
     "end_time": "2023-03-03T03:58:42.745774Z",
     "start_time": "2023-03-03T03:58:42.593012Z"
    }
   },
   "outputs": [],
   "source": [
    "ohc_prices = pd.get_dummies(prices.select_dtypes('category'))\\\n",
    "                .merge(prices['price'], \n",
    "                       left_index=True, \n",
    "                       right_index=True)\\\n",
    "                .corr()['price']\\\n",
    "                .to_frame()\\\n",
    "                .reset_index()"
   ]
  },
  {
   "cell_type": "code",
   "execution_count": 17,
   "id": "0743d7ef",
   "metadata": {
    "ExecuteTime": {
     "end_time": "2023-03-03T04:07:20.133469Z",
     "start_time": "2023-03-03T04:07:20.128475Z"
    },
    "scrolled": false
   },
   "outputs": [],
   "source": [
    "plt.figure(figsize=(6, 0.25*len(ohc_prices)))\n",
    "sns.barplot(ohc_prices.sort_values(by='price'),\n",
    "            y='index',\n",
    "            x='price',\n",
    "            orient='h')"
   ]
  },
  {
   "cell_type": "code",
   "execution_count": 46,
   "id": "a19847ca",
   "metadata": {
    "ExecuteTime": {
     "end_time": "2023-03-02T06:57:52.696901Z",
     "start_time": "2023-03-02T06:57:52.525038Z"
    },
    "scrolled": true
   },
   "outputs": [
    {
     "name": "stdout",
     "output_type": "stream",
     "text": [
      "1.7435000757376466\n"
     ]
    },
    {
     "data": {
      "image/png": "[encoded data removed]",
      "text/plain": [
       "<Figure size 432x288 with 1 Axes>"
      ]
     },
     "metadata": {
      "needs_background": "light"
     },
     "output_type": "display_data"
    }
   ],
   "source": [
    "print(prices['price'].skew())\n",
    "g = sns.histplot(x=prices['price'],\n",
    "                kde=True)\\\n",
    "       .set(title='Histogram for Sale Prices')"
   ]
  },
  {
   "cell_type": "code",
   "execution_count": 11,
   "id": "05d2a928",
   "metadata": {
    "ExecuteTime": {
     "end_time": "2023-03-03T03:33:52.824269Z",
     "start_time": "2023-03-03T03:33:52.588372Z"
    }
   },
   "outputs": [
    {
     "data": {
      "image/png": "[encoded data removed]",
      "text/plain": [
       "<Figure size 720x432 with 1 Axes>"
      ]
     },
     "metadata": {
      "needs_background": "light"
     },
     "output_type": "display_data"
    }
   ],
   "source": [
    "plt.figure(figsize=(10,6))\n",
    "g = sns.boxplot(data=prices,\n",
    "             y='price',\n",
    "             x='OverallQual')\\\n",
    "       .set(title='Boxplot for Sale Price against Quality')"
   ]
  },
  {
   "cell_type": "code",
   "execution_count": 49,
   "id": "6113b0c5",
   "metadata": {
    "ExecuteTime": {
     "end_time": "2023-03-02T06:57:53.646598Z",
     "start_time": "2023-03-02T06:57:53.470627Z"
    }
   },
   "outputs": [
    {
     "data": {
      "image/png": "[encoded data removed]",
      "text/plain": [
       "<Figure size 864x576 with 1 Axes>"
      ]
     },
     "metadata": {
      "needs_background": "light"
     },
     "output_type": "display_data"
    }
   ],
   "source": [
    "plt.figure(figsize=(12,8))\n",
    "g = sns.boxplot(data=prices,\n",
    "             y='price',\n",
    "             x='OverallCond')\\\n",
    "       .set(title='Boxplot for Sale Price against Condition')"
   ]
  },
  {
   "cell_type": "code",
   "execution_count": 51,
   "id": "5736eeff",
   "metadata": {
    "ExecuteTime": {
     "end_time": "2023-03-02T06:57:54.987137Z",
     "start_time": "2023-03-02T06:57:54.868991Z"
    }
   },
   "outputs": [
    {
     "data": {
      "image/png": "[encoded data removed]",
      "text/plain": [
       "<Figure size 432x288 with 1 Axes>"
      ]
     },
     "metadata": {
      "needs_background": "light"
     },
     "output_type": "display_data"
    }
   ],
   "source": [
    "g = sns.histplot(x=prices['YrSold'].astype('category'))\\\n",
    "       .set(title='When were the houses sold?')"
   ]
  },
  {
   "cell_type": "markdown",
   "id": "9b39acbc",
   "metadata": {
    "ExecuteTime": {
     "end_time": "2023-02-20T23:13:37.437239Z",
     "start_time": "2023-02-20T23:13:37.424610Z"
    }
   },
   "source": [
    "## Engineer Additional Columns"
   ]
  },
  {
   "cell_type": "code",
   "execution_count": 52,
   "id": "027c58fa",
   "metadata": {
    "ExecuteTime": {
     "end_time": "2023-03-02T06:57:56.350732Z",
     "start_time": "2023-03-02T06:57:56.336227Z"
    }
   },
   "outputs": [],
   "source": [
    "# Add Years To Sale column\n",
    "prices['YearsToSale'] = prices['YrSold'] - prices['YearRemodAdd']\n",
    "prices.drop(columns=['YrSold', 'YearRemodAdd'], inplace=True)"
   ]
  },
  {
   "cell_type": "code",
   "execution_count": 53,
   "id": "b61dbeec",
   "metadata": {
    "ExecuteTime": {
     "end_time": "2023-03-02T06:57:56.864659Z",
     "start_time": "2023-03-02T06:57:56.680368Z"
    }
   },
   "outputs": [
    {
     "data": {
      "image/png": "[encoded data removed]",
      "text/plain": [
       "<Figure size 432x288 with 1 Axes>"
      ]
     },
     "metadata": {
      "needs_background": "light"
     },
     "output_type": "display_data"
    }
   ],
   "source": [
    "g = sns.histplot(x=prices['YearsToSale'])"
   ]
  },
  {
   "cell_type": "code",
   "execution_count": 54,
   "id": "ddccf31a",
   "metadata": {
    "ExecuteTime": {
     "end_time": "2023-03-02T06:57:57.144311Z",
     "start_time": "2023-03-02T06:57:57.127953Z"
    }
   },
   "outputs": [
    {
     "data": {
      "text/plain": [
       "Index(['MSSubClass', 'KitchenAbvGr', 'WoodDeckSF', 'OpenPorchSF',\n",
       "       'EnclosedPorch', 'X3SsnPorch', 'ScreenPorch', 'PoolArea', 'OverallQual',\n",
       "       'OverallCond', 'price', 'LotArea', 'BsmtFinSF1', 'TotalBsmtSF',\n",
       "       'X1stFlrSF', 'X2ndFlrSF', 'LowQualFinSF', 'area', 'BedroomAbvGr',\n",
       "       'TotRmsAbvGrd', 'Fireplaces', 'GarageCars', 'GarageArea',\n",
       "       'YearsToSale'],\n",
       "      dtype='object')"
      ]
     },
     "execution_count": 54,
     "metadata": {},
     "output_type": "execute_result"
    }
   ],
   "source": [
    "prices.select_dtypes(exclude='category').columns"
   ]
  },
  {
   "cell_type": "code",
   "execution_count": 55,
   "id": "33d6cdac",
   "metadata": {
    "ExecuteTime": {
     "end_time": "2023-03-02T06:57:58.161662Z",
     "start_time": "2023-03-02T06:57:57.664550Z"
    }
   },
   "outputs": [
    {
     "data": {
      "text/plain": [
       "Text(30.236805555555563, 0.5, 'Lot Area (In Thousands sqft)')"
      ]
     },
     "execution_count": 55,
     "metadata": {},
     "output_type": "execute_result"
    },
    {
     "data": {
      "image/png": "[encoded data removed]",
      "text/plain": [
       "<Figure size 426.875x360 with 1 Axes>"
      ]
     },
     "metadata": {
      "needs_background": "light"
     },
     "output_type": "display_data"
    }
   ],
   "source": [
    "sns.relplot(data=prices,\n",
    "           x=prices['price']/1000,\n",
    "           y=prices['LotArea']/1000,\n",
    "           hue='OverallQual')\n",
    "\n",
    "plt.xlabel('Sale Price (In Thousands $)')\n",
    "plt.ylabel('Lot Area (In Thousands sqft)')"
   ]
  },
  {
   "cell_type": "code",
   "execution_count": 35,
   "id": "d99aeecb",
   "metadata": {
    "ExecuteTime": {
     "end_time": "2023-03-02T03:33:24.897874Z",
     "start_time": "2023-03-02T03:33:24.883759Z"
    }
   },
   "outputs": [],
   "source": [
    "prices = prices[prices['LotArea'] < 1e5] # Remove houses more than 1e5 feet in lot area\n",
    "prices = prices[prices['price'] > 20000] # Remove houses costing less than 20k"
   ]
  },
  {
   "cell_type": "code",
   "execution_count": 33,
   "id": "6a598712",
   "metadata": {
    "ExecuteTime": {
     "end_time": "2023-02-28T19:38:03.554565Z",
     "start_time": "2023-02-28T19:38:03.537383Z"
    }
   },
   "outputs": [],
   "source": [
    "prices.to_parquet(r'..\\data\\processed\\training_cleaned_engineered.parquet')"
   ]
  }
 ],
 "metadata": {
  "hide_input": false,
  "kernelspec": {
   "display_name": "Python 3",
   "language": "python",
   "name": "python3"
  },
  "language_info": {
   "codemirror_mode": {
    "name": "ipython",
    "version": 3
   },
   "file_extension": ".py",
   "mimetype": "text/x-python",
   "name": "python",
   "nbconvert_exporter": "python",
   "pygments_lexer": "ipython3",
   "version": "3.8.8"
  }
 },
 "nbformat": 4,
 "nbformat_minor": 5
}
