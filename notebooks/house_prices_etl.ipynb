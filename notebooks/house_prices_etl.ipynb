{
 "cells": [
  {
   "attachments": {},
   "cell_type": "markdown",
   "id": "3732c679",
   "metadata": {},
   "source": [
    "# Housing Prices Regression – Supervised Learning"
   ]
  },
  {
   "cell_type": "markdown",
   "id": "6b6cef44",
   "metadata": {},
   "source": [
    "The project is a regression machine learning study aimed at predicting house prices using a dataset containing various features of houses. I plan on implementing a random forest regressor along with a gradient boosting model and compare their performance using different evaluation metrics. It is broken off into three main portions/notebooks\n",
    " \n",
    "<br>1) **Extract, Transform, Load**</br>\n",
    "<br>2) **Explanatory Data Analysis**</br>\n",
    "<br>3) **Training a model**</br>"
   ]
  },
  {
   "cell_type": "code",
   "execution_count": 1,
   "id": "579f8395",
   "metadata": {
    "ExecuteTime": {
     "end_time": "2023-03-03T03:23:20.843789Z",
     "start_time": "2023-03-03T03:23:14.418508Z"
    }
   },
   "outputs": [],
   "source": [
    "import pandas as pd\n",
    "import numpy as np\n",
    "import matplotlib.pyplot as plt\n",
    "import seaborn as sns"
   ]
  },
  {
   "cell_type": "markdown",
   "id": "1d3564c7",
   "metadata": {},
   "source": [
    "## Load Data"
   ]
  },
  {
   "cell_type": "markdown",
   "id": "6a5f5949",
   "metadata": {},
   "source": [
    "Data collected by Dr. DeCock in the Journal of Statistical Education (2011). Additional information can be found here\n",
    "https://jse.amstat.org/v19n3/decock.pdf"
   ]
  },
  {
   "cell_type": "code",
   "execution_count": 39,
   "id": "b7764046",
   "metadata": {
    "ExecuteTime": {
     "end_time": "2023-03-03T03:26:48.902554Z",
     "start_time": "2023-03-03T03:26:48.859122Z"
    }
   },
   "outputs": [],
   "source": [
    "ames = pd.read_csv(r'..\\data\\raw\\ames.csv', low_memory=False)"
   ]
  },
  {
   "cell_type": "code",
   "execution_count": 40,
   "id": "6045067b",
   "metadata": {
    "ExecuteTime": {
     "end_time": "2023-03-03T03:26:49.043889Z",
     "start_time": "2023-03-03T03:26:49.026539Z"
    }
   },
   "outputs": [],
   "source": [
    "# Remove the '.' from column names\n",
    "ames.columns = [x.replace('.', '') for x in ames.columns]"
   ]
  },
  {
   "cell_type": "markdown",
   "id": "d59c3d6f",
   "metadata": {},
   "source": [
    "A total of 2,930 rows and 82 columns. 20 of which are quantitative values, the rest are categorical or ordinal."
   ]
  },
  {
   "cell_type": "code",
   "execution_count": 62,
   "id": "80daf4af",
   "metadata": {
    "ExecuteTime": {
     "end_time": "2023-03-03T03:55:12.701217Z",
     "start_time": "2023-03-03T03:55:12.686384Z"
    },
    "scrolled": false
   },
   "outputs": [
    {
     "data": {
      "text/plain": [
       "(2930, 82)"
      ]
     },
     "execution_count": 62,
     "metadata": {},
     "output_type": "execute_result"
    }
   ],
   "source": [
    "ames.shape"
   ]
  },
  {
   "cell_type": "markdown",
   "id": "117055b3",
   "metadata": {},
   "source": [
    "Instead of iterating through all available features we can choose a subset that we think is important based off of our experience with real estate prices. While the subset we choose isn't guaranteed to be the best subset out there it will massively help with the EDA process and the time take to complete the project."
   ]
  },
  {
   "cell_type": "code",
   "execution_count": 63,
   "id": "ef417b2a",
   "metadata": {
    "ExecuteTime": {
     "end_time": "2023-03-03T03:55:14.828916Z",
     "start_time": "2023-03-03T03:55:14.812668Z"
    }
   },
   "outputs": [],
   "source": [
    "# Select subset of columns to use\n",
    "categorical = ['MSSubClass', 'MSZoning', 'Street', 'LotShape', 'LandContour', 'Utilities', 'LotConfig', 'Neighborhood',\n",
    "                'BldgType', 'HouseStyle', 'ExterQual', 'ExterCond', 'Foundation', 'BsmtQual', 'BsmtCond', 'BsmtFinType1',\n",
    "                'Heating', 'HeatingQC', 'CentralAir', 'Electrical', 'KitchenAbvGr', 'KitchenQual', 'Functional', 'GarageType',\n",
    "                'PavedDrive', 'WoodDeckSF', 'OpenPorchSF', 'EnclosedPorch', 'X3SsnPorch', 'ScreenPorch', 'PoolArea',\n",
    "                'SaleCondition', 'OverallQual', 'OverallCond']\n",
    "\n",
    "numerical = ['price', 'LotArea', 'BsmtFinSF1', 'TotalBsmtSF', 'X1stFlrSF', 'X2ndFlrSF', 'LowQualFinSF', \n",
    "            'area', 'BedroomAbvGr', 'TotRmsAbvGrd', 'Fireplaces', 'GarageCars', 'GarageArea']\n",
    "\n",
    "to_engineer = ['YearRemodAdd', 'YrSold']"
   ]
  },
  {
   "cell_type": "code",
   "execution_count": 64,
   "id": "27e60e6e",
   "metadata": {
    "ExecuteTime": {
     "end_time": "2023-03-03T03:55:15.486187Z",
     "start_time": "2023-03-03T03:55:15.473109Z"
    }
   },
   "outputs": [],
   "source": [
    "columns_to_use = categorical+numerical+to_engineer"
   ]
  },
  {
   "cell_type": "code",
   "execution_count": 65,
   "id": "c7a16d29",
   "metadata": {
    "ExecuteTime": {
     "end_time": "2023-03-03T03:55:16.107972Z",
     "start_time": "2023-03-03T03:55:16.092324Z"
    }
   },
   "outputs": [],
   "source": [
    "ames_truncated = ames[columns_to_use].copy()"
   ]
  },
  {
   "cell_type": "code",
   "execution_count": 66,
   "id": "2f202199",
   "metadata": {
    "ExecuteTime": {
     "end_time": "2023-03-03T03:55:17.738490Z",
     "start_time": "2023-03-03T03:55:17.731806Z"
    }
   },
   "outputs": [
    {
     "data": {
      "text/plain": [
       "(2930, 49)"
      ]
     },
     "execution_count": 66,
     "metadata": {},
     "output_type": "execute_result"
    }
   ],
   "source": [
    "ames_truncated.shape"
   ]
  },
  {
   "cell_type": "code",
   "execution_count": 45,
   "id": "c80068b3",
   "metadata": {
    "ExecuteTime": {
     "end_time": "2023-03-03T03:26:50.676127Z",
     "start_time": "2023-03-03T03:26:50.626403Z"
    }
   },
   "outputs": [
    {
     "data": {
      "text/html": [
       "<div>\n",
       "<style scoped>\n",
       "    .dataframe tbody tr th:only-of-type {\n",
       "        vertical-align: middle;\n",
       "    }\n",
       "\n",
       "    .dataframe tbody tr th {\n",
       "        vertical-align: top;\n",
       "    }\n",
       "\n",
       "    .dataframe thead th {\n",
       "        text-align: right;\n",
       "    }\n",
       "</style>\n",
       "<table border=\"1\" class=\"dataframe\">\n",
       "  <thead>\n",
       "    <tr style=\"text-align: right;\">\n",
       "      <th></th>\n",
       "      <th>BedroomAbvGr</th>\n",
       "      <th>BldgType</th>\n",
       "      <th>BsmtCond</th>\n",
       "      <th>BsmtFinSF1</th>\n",
       "      <th>BsmtFinType1</th>\n",
       "      <th>BsmtQual</th>\n",
       "      <th>CentralAir</th>\n",
       "      <th>Electrical</th>\n",
       "      <th>EnclosedPorch</th>\n",
       "      <th>ExterCond</th>\n",
       "      <th>ExterQual</th>\n",
       "      <th>Fireplaces</th>\n",
       "      <th>Foundation</th>\n",
       "      <th>Functional</th>\n",
       "      <th>GarageArea</th>\n",
       "      <th>GarageCars</th>\n",
       "      <th>GarageType</th>\n",
       "      <th>Heating</th>\n",
       "      <th>HeatingQC</th>\n",
       "      <th>HouseStyle</th>\n",
       "      <th>KitchenAbvGr</th>\n",
       "      <th>KitchenQual</th>\n",
       "      <th>LandContour</th>\n",
       "      <th>LotArea</th>\n",
       "      <th>LotConfig</th>\n",
       "      <th>LotShape</th>\n",
       "      <th>LowQualFinSF</th>\n",
       "      <th>MSSubClass</th>\n",
       "      <th>MSZoning</th>\n",
       "      <th>Neighborhood</th>\n",
       "      <th>OpenPorchSF</th>\n",
       "      <th>OverallCond</th>\n",
       "      <th>OverallQual</th>\n",
       "      <th>PavedDrive</th>\n",
       "      <th>PoolArea</th>\n",
       "      <th>SaleCondition</th>\n",
       "      <th>ScreenPorch</th>\n",
       "      <th>Street</th>\n",
       "      <th>TotRmsAbvGrd</th>\n",
       "      <th>TotalBsmtSF</th>\n",
       "      <th>Utilities</th>\n",
       "      <th>WoodDeckSF</th>\n",
       "      <th>X1stFlrSF</th>\n",
       "      <th>X2ndFlrSF</th>\n",
       "      <th>X3SsnPorch</th>\n",
       "      <th>YearRemodAdd</th>\n",
       "      <th>YrSold</th>\n",
       "      <th>area</th>\n",
       "      <th>price</th>\n",
       "    </tr>\n",
       "  </thead>\n",
       "  <tbody>\n",
       "    <tr>\n",
       "      <th>1531</th>\n",
       "      <td>3</td>\n",
       "      <td>1Fam</td>\n",
       "      <td>TA</td>\n",
       "      <td>0.0</td>\n",
       "      <td>Unf</td>\n",
       "      <td>Gd</td>\n",
       "      <td>Y</td>\n",
       "      <td>SBrkr</td>\n",
       "      <td>112</td>\n",
       "      <td>Fa</td>\n",
       "      <td>TA</td>\n",
       "      <td>1</td>\n",
       "      <td>BrkTil</td>\n",
       "      <td>Typ</td>\n",
       "      <td>270.0</td>\n",
       "      <td>1.0</td>\n",
       "      <td>Attchd</td>\n",
       "      <td>GasA</td>\n",
       "      <td>TA</td>\n",
       "      <td>2Story</td>\n",
       "      <td>1</td>\n",
       "      <td>TA</td>\n",
       "      <td>HLS</td>\n",
       "      <td>7200</td>\n",
       "      <td>Inside</td>\n",
       "      <td>Reg</td>\n",
       "      <td>0</td>\n",
       "      <td>70</td>\n",
       "      <td>RL</td>\n",
       "      <td>Crawfor</td>\n",
       "      <td>0</td>\n",
       "      <td>6</td>\n",
       "      <td>7</td>\n",
       "      <td>P</td>\n",
       "      <td>0</td>\n",
       "      <td>Normal</td>\n",
       "      <td>0</td>\n",
       "      <td>Pave</td>\n",
       "      <td>6</td>\n",
       "      <td>776.0</td>\n",
       "      <td>AllPub</td>\n",
       "      <td>0</td>\n",
       "      <td>851</td>\n",
       "      <td>651</td>\n",
       "      <td>0</td>\n",
       "      <td>2000</td>\n",
       "      <td>2008</td>\n",
       "      <td>1502</td>\n",
       "      <td>149000</td>\n",
       "    </tr>\n",
       "    <tr>\n",
       "      <th>2183</th>\n",
       "      <td>2</td>\n",
       "      <td>1Fam</td>\n",
       "      <td>TA</td>\n",
       "      <td>77.0</td>\n",
       "      <td>Rec</td>\n",
       "      <td>TA</td>\n",
       "      <td>Y</td>\n",
       "      <td>SBrkr</td>\n",
       "      <td>35</td>\n",
       "      <td>TA</td>\n",
       "      <td>TA</td>\n",
       "      <td>0</td>\n",
       "      <td>CBlock</td>\n",
       "      <td>Typ</td>\n",
       "      <td>392.0</td>\n",
       "      <td>1.0</td>\n",
       "      <td>Detchd</td>\n",
       "      <td>GasA</td>\n",
       "      <td>Ex</td>\n",
       "      <td>1Story</td>\n",
       "      <td>1</td>\n",
       "      <td>Fa</td>\n",
       "      <td>Lvl</td>\n",
       "      <td>6400</td>\n",
       "      <td>Inside</td>\n",
       "      <td>Reg</td>\n",
       "      <td>0</td>\n",
       "      <td>20</td>\n",
       "      <td>RL</td>\n",
       "      <td>Edwards</td>\n",
       "      <td>0</td>\n",
       "      <td>7</td>\n",
       "      <td>5</td>\n",
       "      <td>Y</td>\n",
       "      <td>0</td>\n",
       "      <td>Normal</td>\n",
       "      <td>0</td>\n",
       "      <td>Pave</td>\n",
       "      <td>4</td>\n",
       "      <td>960.0</td>\n",
       "      <td>AllPub</td>\n",
       "      <td>144</td>\n",
       "      <td>960</td>\n",
       "      <td>0</td>\n",
       "      <td>0</td>\n",
       "      <td>2000</td>\n",
       "      <td>2007</td>\n",
       "      <td>960</td>\n",
       "      <td>131750</td>\n",
       "    </tr>\n",
       "    <tr>\n",
       "      <th>1283</th>\n",
       "      <td>3</td>\n",
       "      <td>1Fam</td>\n",
       "      <td>TA</td>\n",
       "      <td>96.0</td>\n",
       "      <td>GLQ</td>\n",
       "      <td>TA</td>\n",
       "      <td>N</td>\n",
       "      <td>SBrkr</td>\n",
       "      <td>0</td>\n",
       "      <td>TA</td>\n",
       "      <td>TA</td>\n",
       "      <td>0</td>\n",
       "      <td>PConc</td>\n",
       "      <td>Typ</td>\n",
       "      <td>308.0</td>\n",
       "      <td>1.0</td>\n",
       "      <td>Detchd</td>\n",
       "      <td>GasA</td>\n",
       "      <td>Gd</td>\n",
       "      <td>1Story</td>\n",
       "      <td>1</td>\n",
       "      <td>TA</td>\n",
       "      <td>Bnk</td>\n",
       "      <td>9836</td>\n",
       "      <td>Inside</td>\n",
       "      <td>Reg</td>\n",
       "      <td>0</td>\n",
       "      <td>20</td>\n",
       "      <td>RM</td>\n",
       "      <td>OldTown</td>\n",
       "      <td>175</td>\n",
       "      <td>5</td>\n",
       "      <td>6</td>\n",
       "      <td>Y</td>\n",
       "      <td>0</td>\n",
       "      <td>Abnorml</td>\n",
       "      <td>0</td>\n",
       "      <td>Pave</td>\n",
       "      <td>7</td>\n",
       "      <td>192.0</td>\n",
       "      <td>AllPub</td>\n",
       "      <td>0</td>\n",
       "      <td>1133</td>\n",
       "      <td>0</td>\n",
       "      <td>0</td>\n",
       "      <td>2008</td>\n",
       "      <td>2008</td>\n",
       "      <td>1133</td>\n",
       "      <td>143000</td>\n",
       "    </tr>\n",
       "    <tr>\n",
       "      <th>1084</th>\n",
       "      <td>2</td>\n",
       "      <td>1Fam</td>\n",
       "      <td>TA</td>\n",
       "      <td>0.0</td>\n",
       "      <td>Unf</td>\n",
       "      <td>Gd</td>\n",
       "      <td>Y</td>\n",
       "      <td>SBrkr</td>\n",
       "      <td>0</td>\n",
       "      <td>TA</td>\n",
       "      <td>Gd</td>\n",
       "      <td>1</td>\n",
       "      <td>PConc</td>\n",
       "      <td>Typ</td>\n",
       "      <td>428.0</td>\n",
       "      <td>2.0</td>\n",
       "      <td>Attchd</td>\n",
       "      <td>GasA</td>\n",
       "      <td>Ex</td>\n",
       "      <td>1Story</td>\n",
       "      <td>1</td>\n",
       "      <td>Gd</td>\n",
       "      <td>Lvl</td>\n",
       "      <td>3710</td>\n",
       "      <td>Inside</td>\n",
       "      <td>Reg</td>\n",
       "      <td>0</td>\n",
       "      <td>20</td>\n",
       "      <td>RL</td>\n",
       "      <td>Blmngtn</td>\n",
       "      <td>24</td>\n",
       "      <td>5</td>\n",
       "      <td>7</td>\n",
       "      <td>Y</td>\n",
       "      <td>0</td>\n",
       "      <td>Partial</td>\n",
       "      <td>0</td>\n",
       "      <td>Pave</td>\n",
       "      <td>5</td>\n",
       "      <td>1146.0</td>\n",
       "      <td>AllPub</td>\n",
       "      <td>100</td>\n",
       "      <td>1246</td>\n",
       "      <td>0</td>\n",
       "      <td>0</td>\n",
       "      <td>2008</td>\n",
       "      <td>2008</td>\n",
       "      <td>1246</td>\n",
       "      <td>187687</td>\n",
       "    </tr>\n",
       "    <tr>\n",
       "      <th>82</th>\n",
       "      <td>2</td>\n",
       "      <td>1Fam</td>\n",
       "      <td>TA</td>\n",
       "      <td>0.0</td>\n",
       "      <td>Unf</td>\n",
       "      <td>TA</td>\n",
       "      <td>N</td>\n",
       "      <td>FuseA</td>\n",
       "      <td>80</td>\n",
       "      <td>Fa</td>\n",
       "      <td>TA</td>\n",
       "      <td>0</td>\n",
       "      <td>BrkTil</td>\n",
       "      <td>Typ</td>\n",
       "      <td>429.0</td>\n",
       "      <td>1.0</td>\n",
       "      <td>Detchd</td>\n",
       "      <td>GasA</td>\n",
       "      <td>TA</td>\n",
       "      <td>1Story</td>\n",
       "      <td>1</td>\n",
       "      <td>TA</td>\n",
       "      <td>Lvl</td>\n",
       "      <td>9800</td>\n",
       "      <td>Corner</td>\n",
       "      <td>Reg</td>\n",
       "      <td>0</td>\n",
       "      <td>30</td>\n",
       "      <td>RH</td>\n",
       "      <td>SawyerW</td>\n",
       "      <td>0</td>\n",
       "      <td>5</td>\n",
       "      <td>5</td>\n",
       "      <td>Y</td>\n",
       "      <td>0</td>\n",
       "      <td>Normal</td>\n",
       "      <td>0</td>\n",
       "      <td>Pave</td>\n",
       "      <td>5</td>\n",
       "      <td>816.0</td>\n",
       "      <td>AllPub</td>\n",
       "      <td>121</td>\n",
       "      <td>1012</td>\n",
       "      <td>0</td>\n",
       "      <td>0</td>\n",
       "      <td>1950</td>\n",
       "      <td>2010</td>\n",
       "      <td>1012</td>\n",
       "      <td>67500</td>\n",
       "    </tr>\n",
       "    <tr>\n",
       "      <th>195</th>\n",
       "      <td>3</td>\n",
       "      <td>1Fam</td>\n",
       "      <td>TA</td>\n",
       "      <td>264.0</td>\n",
       "      <td>LwQ</td>\n",
       "      <td>TA</td>\n",
       "      <td>Y</td>\n",
       "      <td>FuseA</td>\n",
       "      <td>0</td>\n",
       "      <td>Gd</td>\n",
       "      <td>TA</td>\n",
       "      <td>2</td>\n",
       "      <td>CBlock</td>\n",
       "      <td>Typ</td>\n",
       "      <td>576.0</td>\n",
       "      <td>2.0</td>\n",
       "      <td>Detchd</td>\n",
       "      <td>GasA</td>\n",
       "      <td>Ex</td>\n",
       "      <td>1.5Fin</td>\n",
       "      <td>1</td>\n",
       "      <td>TA</td>\n",
       "      <td>Lvl</td>\n",
       "      <td>6000</td>\n",
       "      <td>Inside</td>\n",
       "      <td>Reg</td>\n",
       "      <td>0</td>\n",
       "      <td>50</td>\n",
       "      <td>RM</td>\n",
       "      <td>BrkSide</td>\n",
       "      <td>0</td>\n",
       "      <td>6</td>\n",
       "      <td>6</td>\n",
       "      <td>Y</td>\n",
       "      <td>0</td>\n",
       "      <td>Normal</td>\n",
       "      <td>0</td>\n",
       "      <td>Pave</td>\n",
       "      <td>6</td>\n",
       "      <td>572.0</td>\n",
       "      <td>AllPub</td>\n",
       "      <td>0</td>\n",
       "      <td>848</td>\n",
       "      <td>348</td>\n",
       "      <td>0</td>\n",
       "      <td>1950</td>\n",
       "      <td>2010</td>\n",
       "      <td>1196</td>\n",
       "      <td>128000</td>\n",
       "    </tr>\n",
       "    <tr>\n",
       "      <th>840</th>\n",
       "      <td>3</td>\n",
       "      <td>1Fam</td>\n",
       "      <td>TA</td>\n",
       "      <td>0.0</td>\n",
       "      <td>Unf</td>\n",
       "      <td>Gd</td>\n",
       "      <td>Y</td>\n",
       "      <td>SBrkr</td>\n",
       "      <td>0</td>\n",
       "      <td>TA</td>\n",
       "      <td>TA</td>\n",
       "      <td>0</td>\n",
       "      <td>PConc</td>\n",
       "      <td>Typ</td>\n",
       "      <td>672.0</td>\n",
       "      <td>2.0</td>\n",
       "      <td>Attchd</td>\n",
       "      <td>GasA</td>\n",
       "      <td>Ex</td>\n",
       "      <td>1Story</td>\n",
       "      <td>1</td>\n",
       "      <td>TA</td>\n",
       "      <td>Lvl</td>\n",
       "      <td>10859</td>\n",
       "      <td>Corner</td>\n",
       "      <td>Reg</td>\n",
       "      <td>0</td>\n",
       "      <td>20</td>\n",
       "      <td>RL</td>\n",
       "      <td>CollgCr</td>\n",
       "      <td>64</td>\n",
       "      <td>5</td>\n",
       "      <td>5</td>\n",
       "      <td>Y</td>\n",
       "      <td>0</td>\n",
       "      <td>Normal</td>\n",
       "      <td>0</td>\n",
       "      <td>Pave</td>\n",
       "      <td>6</td>\n",
       "      <td>1097.0</td>\n",
       "      <td>AllPub</td>\n",
       "      <td>392</td>\n",
       "      <td>1097</td>\n",
       "      <td>0</td>\n",
       "      <td>0</td>\n",
       "      <td>1995</td>\n",
       "      <td>2009</td>\n",
       "      <td>1097</td>\n",
       "      <td>145000</td>\n",
       "    </tr>\n",
       "    <tr>\n",
       "      <th>1171</th>\n",
       "      <td>2</td>\n",
       "      <td>TwnhsE</td>\n",
       "      <td>TA</td>\n",
       "      <td>1238.0</td>\n",
       "      <td>GLQ</td>\n",
       "      <td>Ex</td>\n",
       "      <td>Y</td>\n",
       "      <td>SBrkr</td>\n",
       "      <td>0</td>\n",
       "      <td>TA</td>\n",
       "      <td>Gd</td>\n",
       "      <td>1</td>\n",
       "      <td>PConc</td>\n",
       "      <td>Typ</td>\n",
       "      <td>506.0</td>\n",
       "      <td>2.0</td>\n",
       "      <td>Attchd</td>\n",
       "      <td>GasA</td>\n",
       "      <td>Ex</td>\n",
       "      <td>1Story</td>\n",
       "      <td>1</td>\n",
       "      <td>Gd</td>\n",
       "      <td>Lvl</td>\n",
       "      <td>5119</td>\n",
       "      <td>CulDSac</td>\n",
       "      <td>IR1</td>\n",
       "      <td>0</td>\n",
       "      <td>120</td>\n",
       "      <td>FV</td>\n",
       "      <td>Somerst</td>\n",
       "      <td>65</td>\n",
       "      <td>5</td>\n",
       "      <td>9</td>\n",
       "      <td>Y</td>\n",
       "      <td>0</td>\n",
       "      <td>Abnorml</td>\n",
       "      <td>0</td>\n",
       "      <td>Pave</td>\n",
       "      <td>5</td>\n",
       "      <td>1698.0</td>\n",
       "      <td>AllPub</td>\n",
       "      <td>97</td>\n",
       "      <td>1709</td>\n",
       "      <td>0</td>\n",
       "      <td>0</td>\n",
       "      <td>2000</td>\n",
       "      <td>2008</td>\n",
       "      <td>1709</td>\n",
       "      <td>328900</td>\n",
       "    </tr>\n",
       "    <tr>\n",
       "      <th>1481</th>\n",
       "      <td>1</td>\n",
       "      <td>TwnhsE</td>\n",
       "      <td>TA</td>\n",
       "      <td>697.0</td>\n",
       "      <td>GLQ</td>\n",
       "      <td>Gd</td>\n",
       "      <td>Y</td>\n",
       "      <td>SBrkr</td>\n",
       "      <td>0</td>\n",
       "      <td>TA</td>\n",
       "      <td>Gd</td>\n",
       "      <td>1</td>\n",
       "      <td>PConc</td>\n",
       "      <td>Typ</td>\n",
       "      <td>420.0</td>\n",
       "      <td>2.0</td>\n",
       "      <td>Attchd</td>\n",
       "      <td>GasA</td>\n",
       "      <td>Ex</td>\n",
       "      <td>1Story</td>\n",
       "      <td>1</td>\n",
       "      <td>Gd</td>\n",
       "      <td>Lvl</td>\n",
       "      <td>4426</td>\n",
       "      <td>Inside</td>\n",
       "      <td>Reg</td>\n",
       "      <td>0</td>\n",
       "      <td>120</td>\n",
       "      <td>RM</td>\n",
       "      <td>CollgCr</td>\n",
       "      <td>0</td>\n",
       "      <td>5</td>\n",
       "      <td>6</td>\n",
       "      <td>Y</td>\n",
       "      <td>0</td>\n",
       "      <td>Normal</td>\n",
       "      <td>0</td>\n",
       "      <td>Pave</td>\n",
       "      <td>3</td>\n",
       "      <td>848.0</td>\n",
       "      <td>AllPub</td>\n",
       "      <td>149</td>\n",
       "      <td>848</td>\n",
       "      <td>0</td>\n",
       "      <td>0</td>\n",
       "      <td>2004</td>\n",
       "      <td>2008</td>\n",
       "      <td>848</td>\n",
       "      <td>149300</td>\n",
       "    </tr>\n",
       "    <tr>\n",
       "      <th>2176</th>\n",
       "      <td>5</td>\n",
       "      <td>Duplex</td>\n",
       "      <td>NaN</td>\n",
       "      <td>0.0</td>\n",
       "      <td>NaN</td>\n",
       "      <td>NaN</td>\n",
       "      <td>Y</td>\n",
       "      <td>SBrkr</td>\n",
       "      <td>0</td>\n",
       "      <td>TA</td>\n",
       "      <td>TA</td>\n",
       "      <td>0</td>\n",
       "      <td>Slab</td>\n",
       "      <td>Typ</td>\n",
       "      <td>579.0</td>\n",
       "      <td>2.0</td>\n",
       "      <td>Attchd</td>\n",
       "      <td>GasA</td>\n",
       "      <td>TA</td>\n",
       "      <td>2Story</td>\n",
       "      <td>2</td>\n",
       "      <td>TA</td>\n",
       "      <td>Lvl</td>\n",
       "      <td>9555</td>\n",
       "      <td>CulDSac</td>\n",
       "      <td>IR1</td>\n",
       "      <td>0</td>\n",
       "      <td>90</td>\n",
       "      <td>RL</td>\n",
       "      <td>Edwards</td>\n",
       "      <td>0</td>\n",
       "      <td>6</td>\n",
       "      <td>5</td>\n",
       "      <td>Y</td>\n",
       "      <td>0</td>\n",
       "      <td>Normal</td>\n",
       "      <td>0</td>\n",
       "      <td>Pave</td>\n",
       "      <td>11</td>\n",
       "      <td>0.0</td>\n",
       "      <td>AllPub</td>\n",
       "      <td>0</td>\n",
       "      <td>1100</td>\n",
       "      <td>1133</td>\n",
       "      <td>0</td>\n",
       "      <td>1979</td>\n",
       "      <td>2007</td>\n",
       "      <td>2233</td>\n",
       "      <td>141000</td>\n",
       "    </tr>\n",
       "  </tbody>\n",
       "</table>\n",
       "</div>"
      ],
      "text/plain": [
       "      BedroomAbvGr BldgType BsmtCond  BsmtFinSF1 BsmtFinType1 BsmtQual  \\\n",
       "1531             3     1Fam       TA         0.0          Unf       Gd   \n",
       "2183             2     1Fam       TA        77.0          Rec       TA   \n",
       "1283             3     1Fam       TA        96.0          GLQ       TA   \n",
       "1084             2     1Fam       TA         0.0          Unf       Gd   \n",
       "82               2     1Fam       TA         0.0          Unf       TA   \n",
       "195              3     1Fam       TA       264.0          LwQ       TA   \n",
       "840              3     1Fam       TA         0.0          Unf       Gd   \n",
       "1171             2   TwnhsE       TA      1238.0          GLQ       Ex   \n",
       "1481             1   TwnhsE       TA       697.0          GLQ       Gd   \n",
       "2176             5   Duplex      NaN         0.0          NaN      NaN   \n",
       "\n",
       "     CentralAir Electrical  EnclosedPorch ExterCond ExterQual  Fireplaces  \\\n",
       "1531          Y      SBrkr            112        Fa        TA           1   \n",
       "2183          Y      SBrkr             35        TA        TA           0   \n",
       "1283          N      SBrkr              0        TA        TA           0   \n",
       "1084          Y      SBrkr              0        TA        Gd           1   \n",
       "82            N      FuseA             80        Fa        TA           0   \n",
       "195           Y      FuseA              0        Gd        TA           2   \n",
       "840           Y      SBrkr              0        TA        TA           0   \n",
       "1171          Y      SBrkr              0        TA        Gd           1   \n",
       "1481          Y      SBrkr              0        TA        Gd           1   \n",
       "2176          Y      SBrkr              0        TA        TA           0   \n",
       "\n",
       "     Foundation Functional  GarageArea  GarageCars GarageType Heating  \\\n",
       "1531     BrkTil        Typ       270.0         1.0     Attchd    GasA   \n",
       "2183     CBlock        Typ       392.0         1.0     Detchd    GasA   \n",
       "1283      PConc        Typ       308.0         1.0     Detchd    GasA   \n",
       "1084      PConc        Typ       428.0         2.0     Attchd    GasA   \n",
       "82       BrkTil        Typ       429.0         1.0     Detchd    GasA   \n",
       "195      CBlock        Typ       576.0         2.0     Detchd    GasA   \n",
       "840       PConc        Typ       672.0         2.0     Attchd    GasA   \n",
       "1171      PConc        Typ       506.0         2.0     Attchd    GasA   \n",
       "1481      PConc        Typ       420.0         2.0     Attchd    GasA   \n",
       "2176       Slab        Typ       579.0         2.0     Attchd    GasA   \n",
       "\n",
       "     HeatingQC HouseStyle  KitchenAbvGr KitchenQual LandContour  LotArea  \\\n",
       "1531        TA     2Story             1          TA         HLS     7200   \n",
       "2183        Ex     1Story             1          Fa         Lvl     6400   \n",
       "1283        Gd     1Story             1          TA         Bnk     9836   \n",
       "1084        Ex     1Story             1          Gd         Lvl     3710   \n",
       "82          TA     1Story             1          TA         Lvl     9800   \n",
       "195         Ex     1.5Fin             1          TA         Lvl     6000   \n",
       "840         Ex     1Story             1          TA         Lvl    10859   \n",
       "1171        Ex     1Story             1          Gd         Lvl     5119   \n",
       "1481        Ex     1Story             1          Gd         Lvl     4426   \n",
       "2176        TA     2Story             2          TA         Lvl     9555   \n",
       "\n",
       "     LotConfig LotShape  LowQualFinSF  MSSubClass MSZoning Neighborhood  \\\n",
       "1531    Inside      Reg             0          70       RL      Crawfor   \n",
       "2183    Inside      Reg             0          20       RL      Edwards   \n",
       "1283    Inside      Reg             0          20       RM      OldTown   \n",
       "1084    Inside      Reg             0          20       RL      Blmngtn   \n",
       "82      Corner      Reg             0          30       RH      SawyerW   \n",
       "195     Inside      Reg             0          50       RM      BrkSide   \n",
       "840     Corner      Reg             0          20       RL      CollgCr   \n",
       "1171   CulDSac      IR1             0         120       FV      Somerst   \n",
       "1481    Inside      Reg             0         120       RM      CollgCr   \n",
       "2176   CulDSac      IR1             0          90       RL      Edwards   \n",
       "\n",
       "      OpenPorchSF  OverallCond  OverallQual PavedDrive  PoolArea  \\\n",
       "1531            0            6            7          P         0   \n",
       "2183            0            7            5          Y         0   \n",
       "1283          175            5            6          Y         0   \n",
       "1084           24            5            7          Y         0   \n",
       "82              0            5            5          Y         0   \n",
       "195             0            6            6          Y         0   \n",
       "840            64            5            5          Y         0   \n",
       "1171           65            5            9          Y         0   \n",
       "1481            0            5            6          Y         0   \n",
       "2176            0            6            5          Y         0   \n",
       "\n",
       "     SaleCondition  ScreenPorch Street  TotRmsAbvGrd  TotalBsmtSF Utilities  \\\n",
       "1531        Normal            0   Pave             6        776.0    AllPub   \n",
       "2183        Normal            0   Pave             4        960.0    AllPub   \n",
       "1283       Abnorml            0   Pave             7        192.0    AllPub   \n",
       "1084       Partial            0   Pave             5       1146.0    AllPub   \n",
       "82          Normal            0   Pave             5        816.0    AllPub   \n",
       "195         Normal            0   Pave             6        572.0    AllPub   \n",
       "840         Normal            0   Pave             6       1097.0    AllPub   \n",
       "1171       Abnorml            0   Pave             5       1698.0    AllPub   \n",
       "1481        Normal            0   Pave             3        848.0    AllPub   \n",
       "2176        Normal            0   Pave            11          0.0    AllPub   \n",
       "\n",
       "      WoodDeckSF  X1stFlrSF  X2ndFlrSF  X3SsnPorch  YearRemodAdd  YrSold  \\\n",
       "1531           0        851        651           0          2000    2008   \n",
       "2183         144        960          0           0          2000    2007   \n",
       "1283           0       1133          0           0          2008    2008   \n",
       "1084         100       1246          0           0          2008    2008   \n",
       "82           121       1012          0           0          1950    2010   \n",
       "195            0        848        348           0          1950    2010   \n",
       "840          392       1097          0           0          1995    2009   \n",
       "1171          97       1709          0           0          2000    2008   \n",
       "1481         149        848          0           0          2004    2008   \n",
       "2176           0       1100       1133           0          1979    2007   \n",
       "\n",
       "      area   price  \n",
       "1531  1502  149000  \n",
       "2183   960  131750  \n",
       "1283  1133  143000  \n",
       "1084  1246  187687  \n",
       "82    1012   67500  \n",
       "195   1196  128000  \n",
       "840   1097  145000  \n",
       "1171  1709  328900  \n",
       "1481   848  149300  \n",
       "2176  2233  141000  "
      ]
     },
     "metadata": {},
     "output_type": "display_data"
    }
   ],
   "source": [
    "# Quick glance at the data\n",
    "with pd.option_context(\"display.max_columns\", None):\n",
    "    display(ames_truncated[sorted(ames_truncated.columns)].sample(10))"
   ]
  },
  {
   "cell_type": "markdown",
   "id": "777c4741",
   "metadata": {},
   "source": [
    "## Deal with Missing Values"
   ]
  },
  {
   "cell_type": "code",
   "execution_count": 46,
   "id": "f98eb71c",
   "metadata": {
    "ExecuteTime": {
     "end_time": "2023-03-03T03:26:51.765214Z",
     "start_time": "2023-03-03T03:26:51.730856Z"
    }
   },
   "outputs": [
    {
     "data": {
      "text/plain": [
       "GarageType      5.358\n",
       "BsmtQual        2.730\n",
       "BsmtCond        2.730\n",
       "BsmtFinType1    2.730\n",
       "Electrical      0.034\n",
       "BsmtFinSF1      0.034\n",
       "TotalBsmtSF     0.034\n",
       "GarageCars      0.034\n",
       "GarageArea      0.034\n",
       "dtype: float64"
      ]
     },
     "execution_count": 46,
     "metadata": {},
     "output_type": "execute_result"
    }
   ],
   "source": [
    "# Look at percentage of missing NA's\n",
    "ames_truncated.isna().sum().loc[lambda x: x > 0].divide(ames_truncated.shape[0]).sort_values(ascending=False).round(5)*100"
   ]
  },
  {
   "cell_type": "code",
   "execution_count": 67,
   "id": "65703bbb",
   "metadata": {
    "ExecuteTime": {
     "end_time": "2023-03-03T03:55:54.902830Z",
     "start_time": "2023-03-03T03:55:53.979800Z"
    }
   },
   "outputs": [
    {
     "data": {
      "text/plain": [
       "<AxesSubplot: >"
      ]
     },
     "execution_count": 67,
     "metadata": {},
     "output_type": "execute_result"
    },
    {
     "data": {
      "image/png": "[encoded data removed]",
      "text/plain": [
       "<Figure size 1440x1080 with 2 Axes>"
      ]
     },
     "metadata": {
      "needs_background": "light"
     },
     "output_type": "display_data"
    }
   ],
   "source": [
    "# We can plot a heatmap to see nulls\n",
    "plt.figure(figsize=(20,15))\n",
    "sns.heatmap(ames_truncated.isna())"
   ]
  },
  {
   "cell_type": "markdown",
   "id": "a11b572a",
   "metadata": {},
   "source": [
    "We need to analyze individual nulls to understand whether we need to impute or remove the observation"
   ]
  },
  {
   "cell_type": "code",
   "execution_count": 47,
   "id": "4186b462",
   "metadata": {
    "ExecuteTime": {
     "end_time": "2023-03-03T03:26:54.588272Z",
     "start_time": "2023-03-03T03:26:54.572434Z"
    }
   },
   "outputs": [
    {
     "data": {
      "text/plain": [
       "TA     1283\n",
       "Gd     1219\n",
       "Ex      258\n",
       "Fa       88\n",
       "NaN      80\n",
       "Po        2\n",
       "Name: BsmtQual, dtype: int64"
      ]
     },
     "execution_count": 47,
     "metadata": {},
     "output_type": "execute_result"
    }
   ],
   "source": [
    "ames_truncated['BsmtQual'].value_counts(dropna=False)"
   ]
  },
  {
   "cell_type": "code",
   "execution_count": 48,
   "id": "fd2f96c3",
   "metadata": {
    "ExecuteTime": {
     "end_time": "2023-03-03T03:26:54.977914Z",
     "start_time": "2023-03-03T03:26:54.953471Z"
    },
    "scrolled": true
   },
   "outputs": [
    {
     "data": {
      "text/html": [
       "<div>\n",
       "<style scoped>\n",
       "    .dataframe tbody tr th:only-of-type {\n",
       "        vertical-align: middle;\n",
       "    }\n",
       "\n",
       "    .dataframe tbody tr th {\n",
       "        vertical-align: top;\n",
       "    }\n",
       "\n",
       "    .dataframe thead th {\n",
       "        text-align: right;\n",
       "    }\n",
       "</style>\n",
       "<table border=\"1\" class=\"dataframe\">\n",
       "  <thead>\n",
       "    <tr style=\"text-align: right;\">\n",
       "      <th></th>\n",
       "      <th>BsmtQual</th>\n",
       "      <th>BsmtCond</th>\n",
       "      <th>BsmtFinType1</th>\n",
       "      <th>BsmtFinSF1</th>\n",
       "      <th>TotalBsmtSF</th>\n",
       "    </tr>\n",
       "  </thead>\n",
       "  <tbody>\n",
       "    <tr>\n",
       "      <th>83</th>\n",
       "      <td>NaN</td>\n",
       "      <td>NaN</td>\n",
       "      <td>NaN</td>\n",
       "      <td>0.0</td>\n",
       "      <td>0.0</td>\n",
       "    </tr>\n",
       "    <tr>\n",
       "      <th>154</th>\n",
       "      <td>NaN</td>\n",
       "      <td>NaN</td>\n",
       "      <td>NaN</td>\n",
       "      <td>0.0</td>\n",
       "      <td>0.0</td>\n",
       "    </tr>\n",
       "    <tr>\n",
       "      <th>206</th>\n",
       "      <td>NaN</td>\n",
       "      <td>NaN</td>\n",
       "      <td>NaN</td>\n",
       "      <td>0.0</td>\n",
       "      <td>0.0</td>\n",
       "    </tr>\n",
       "    <tr>\n",
       "      <th>243</th>\n",
       "      <td>NaN</td>\n",
       "      <td>NaN</td>\n",
       "      <td>NaN</td>\n",
       "      <td>0.0</td>\n",
       "      <td>0.0</td>\n",
       "    </tr>\n",
       "    <tr>\n",
       "      <th>273</th>\n",
       "      <td>NaN</td>\n",
       "      <td>NaN</td>\n",
       "      <td>NaN</td>\n",
       "      <td>0.0</td>\n",
       "      <td>0.0</td>\n",
       "    </tr>\n",
       "    <tr>\n",
       "      <th>...</th>\n",
       "      <td>...</td>\n",
       "      <td>...</td>\n",
       "      <td>...</td>\n",
       "      <td>...</td>\n",
       "      <td>...</td>\n",
       "    </tr>\n",
       "    <tr>\n",
       "      <th>2739</th>\n",
       "      <td>NaN</td>\n",
       "      <td>NaN</td>\n",
       "      <td>NaN</td>\n",
       "      <td>0.0</td>\n",
       "      <td>0.0</td>\n",
       "    </tr>\n",
       "    <tr>\n",
       "      <th>2744</th>\n",
       "      <td>NaN</td>\n",
       "      <td>NaN</td>\n",
       "      <td>NaN</td>\n",
       "      <td>0.0</td>\n",
       "      <td>0.0</td>\n",
       "    </tr>\n",
       "    <tr>\n",
       "      <th>2879</th>\n",
       "      <td>NaN</td>\n",
       "      <td>NaN</td>\n",
       "      <td>NaN</td>\n",
       "      <td>0.0</td>\n",
       "      <td>0.0</td>\n",
       "    </tr>\n",
       "    <tr>\n",
       "      <th>2892</th>\n",
       "      <td>NaN</td>\n",
       "      <td>NaN</td>\n",
       "      <td>NaN</td>\n",
       "      <td>0.0</td>\n",
       "      <td>0.0</td>\n",
       "    </tr>\n",
       "    <tr>\n",
       "      <th>2903</th>\n",
       "      <td>NaN</td>\n",
       "      <td>NaN</td>\n",
       "      <td>NaN</td>\n",
       "      <td>0.0</td>\n",
       "      <td>0.0</td>\n",
       "    </tr>\n",
       "  </tbody>\n",
       "</table>\n",
       "<p>80 rows × 5 columns</p>\n",
       "</div>"
      ],
      "text/plain": [
       "     BsmtQual BsmtCond BsmtFinType1  BsmtFinSF1  TotalBsmtSF\n",
       "83        NaN      NaN          NaN         0.0          0.0\n",
       "154       NaN      NaN          NaN         0.0          0.0\n",
       "206       NaN      NaN          NaN         0.0          0.0\n",
       "243       NaN      NaN          NaN         0.0          0.0\n",
       "273       NaN      NaN          NaN         0.0          0.0\n",
       "...       ...      ...          ...         ...          ...\n",
       "2739      NaN      NaN          NaN         0.0          0.0\n",
       "2744      NaN      NaN          NaN         0.0          0.0\n",
       "2879      NaN      NaN          NaN         0.0          0.0\n",
       "2892      NaN      NaN          NaN         0.0          0.0\n",
       "2903      NaN      NaN          NaN         0.0          0.0\n",
       "\n",
       "[80 rows x 5 columns]"
      ]
     },
     "execution_count": 48,
     "metadata": {},
     "output_type": "execute_result"
    }
   ],
   "source": [
    "# Missing basement quality usually means no basement\n",
    "ames_truncated[ames_truncated['BsmtQual'].isna()][[x for x in ames_truncated.columns if 'Bsmt' in x]]"
   ]
  },
  {
   "cell_type": "code",
   "execution_count": 49,
   "id": "fbee057b",
   "metadata": {
    "ExecuteTime": {
     "end_time": "2023-03-03T03:26:55.366887Z",
     "start_time": "2023-03-03T03:26:55.349483Z"
    }
   },
   "outputs": [
    {
     "data": {
      "text/html": [
       "<div>\n",
       "<style scoped>\n",
       "    .dataframe tbody tr th:only-of-type {\n",
       "        vertical-align: middle;\n",
       "    }\n",
       "\n",
       "    .dataframe tbody tr th {\n",
       "        vertical-align: top;\n",
       "    }\n",
       "\n",
       "    .dataframe thead th {\n",
       "        text-align: right;\n",
       "    }\n",
       "</style>\n",
       "<table border=\"1\" class=\"dataframe\">\n",
       "  <thead>\n",
       "    <tr style=\"text-align: right;\">\n",
       "      <th></th>\n",
       "      <th>GarageType</th>\n",
       "      <th>GarageCars</th>\n",
       "      <th>GarageArea</th>\n",
       "    </tr>\n",
       "  </thead>\n",
       "  <tbody>\n",
       "    <tr>\n",
       "      <th>27</th>\n",
       "      <td>NaN</td>\n",
       "      <td>0.0</td>\n",
       "      <td>0.0</td>\n",
       "    </tr>\n",
       "    <tr>\n",
       "      <th>119</th>\n",
       "      <td>NaN</td>\n",
       "      <td>0.0</td>\n",
       "      <td>0.0</td>\n",
       "    </tr>\n",
       "    <tr>\n",
       "      <th>125</th>\n",
       "      <td>NaN</td>\n",
       "      <td>0.0</td>\n",
       "      <td>0.0</td>\n",
       "    </tr>\n",
       "    <tr>\n",
       "      <th>129</th>\n",
       "      <td>NaN</td>\n",
       "      <td>0.0</td>\n",
       "      <td>0.0</td>\n",
       "    </tr>\n",
       "    <tr>\n",
       "      <th>130</th>\n",
       "      <td>NaN</td>\n",
       "      <td>0.0</td>\n",
       "      <td>0.0</td>\n",
       "    </tr>\n",
       "    <tr>\n",
       "      <th>...</th>\n",
       "      <td>...</td>\n",
       "      <td>...</td>\n",
       "      <td>...</td>\n",
       "    </tr>\n",
       "    <tr>\n",
       "      <th>2913</th>\n",
       "      <td>NaN</td>\n",
       "      <td>0.0</td>\n",
       "      <td>0.0</td>\n",
       "    </tr>\n",
       "    <tr>\n",
       "      <th>2916</th>\n",
       "      <td>NaN</td>\n",
       "      <td>0.0</td>\n",
       "      <td>0.0</td>\n",
       "    </tr>\n",
       "    <tr>\n",
       "      <th>2918</th>\n",
       "      <td>NaN</td>\n",
       "      <td>0.0</td>\n",
       "      <td>0.0</td>\n",
       "    </tr>\n",
       "    <tr>\n",
       "      <th>2919</th>\n",
       "      <td>NaN</td>\n",
       "      <td>0.0</td>\n",
       "      <td>0.0</td>\n",
       "    </tr>\n",
       "    <tr>\n",
       "      <th>2927</th>\n",
       "      <td>NaN</td>\n",
       "      <td>0.0</td>\n",
       "      <td>0.0</td>\n",
       "    </tr>\n",
       "  </tbody>\n",
       "</table>\n",
       "<p>157 rows × 3 columns</p>\n",
       "</div>"
      ],
      "text/plain": [
       "     GarageType  GarageCars  GarageArea\n",
       "27          NaN         0.0         0.0\n",
       "119         NaN         0.0         0.0\n",
       "125         NaN         0.0         0.0\n",
       "129         NaN         0.0         0.0\n",
       "130         NaN         0.0         0.0\n",
       "...         ...         ...         ...\n",
       "2913        NaN         0.0         0.0\n",
       "2916        NaN         0.0         0.0\n",
       "2918        NaN         0.0         0.0\n",
       "2919        NaN         0.0         0.0\n",
       "2927        NaN         0.0         0.0\n",
       "\n",
       "[157 rows x 3 columns]"
      ]
     },
     "execution_count": 49,
     "metadata": {},
     "output_type": "execute_result"
    }
   ],
   "source": [
    "ames_truncated[ames_truncated['GarageType'].isna()][[x for x in ames_truncated.columns if 'Garage' in x]]"
   ]
  },
  {
   "cell_type": "code",
   "execution_count": 50,
   "id": "0602f2f9",
   "metadata": {
    "ExecuteTime": {
     "end_time": "2023-03-03T03:26:56.575410Z",
     "start_time": "2023-03-03T03:26:56.554989Z"
    }
   },
   "outputs": [],
   "source": [
    "# Fill with None for missing category values\n",
    "for column in ['BsmtQual', 'BsmtCond', 'BsmtFinType1', 'GarageType']:\n",
    "    ames_truncated[column].fillna('None', inplace=True)"
   ]
  },
  {
   "cell_type": "code",
   "execution_count": 51,
   "id": "e2ee6762",
   "metadata": {
    "ExecuteTime": {
     "end_time": "2023-03-03T03:26:57.832582Z",
     "start_time": "2023-03-03T03:26:57.820080Z"
    }
   },
   "outputs": [],
   "source": [
    "# Fill with zeros for category values\n",
    "for column in ['TotalBsmtSF', 'BsmtFinSF1', 'GarageCars', 'GarageArea']:\n",
    "    ames_truncated[column].fillna(0, inplace=True)"
   ]
  },
  {
   "cell_type": "code",
   "execution_count": 52,
   "id": "9b1cbb20",
   "metadata": {
    "ExecuteTime": {
     "end_time": "2023-03-03T03:26:58.592920Z",
     "start_time": "2023-03-03T03:26:58.570757Z"
    }
   },
   "outputs": [
    {
     "data": {
      "text/plain": [
       "SBrkr    2682\n",
       "FuseA     188\n",
       "FuseF      50\n",
       "FuseP       8\n",
       "NaN         1\n",
       "Mix         1\n",
       "Name: Electrical, dtype: int64"
      ]
     },
     "execution_count": 52,
     "metadata": {},
     "output_type": "execute_result"
    }
   ],
   "source": [
    "ames_truncated['Electrical'].value_counts(dropna=False)"
   ]
  },
  {
   "cell_type": "code",
   "execution_count": 53,
   "id": "fd837b84",
   "metadata": {
    "ExecuteTime": {
     "end_time": "2023-03-03T03:26:59.029070Z",
     "start_time": "2023-03-03T03:26:59.015291Z"
    }
   },
   "outputs": [],
   "source": [
    "ames_truncated['Electrical'].fillna(ames_truncated['Electrical'].mode().values[0], inplace=True)"
   ]
  },
  {
   "cell_type": "code",
   "execution_count": 54,
   "id": "df4f64de",
   "metadata": {
    "ExecuteTime": {
     "end_time": "2023-03-03T03:26:59.714418Z",
     "start_time": "2023-03-03T03:26:59.690448Z"
    }
   },
   "outputs": [],
   "source": [
    "assert ames_truncated.isna().sum().sum() == 0, 'Some NAs still present in data'"
   ]
  },
  {
   "cell_type": "markdown",
   "id": "4f37d3df",
   "metadata": {},
   "source": [
    "Missing values do not indicate an issue with the data, missing value for Pool Quality simply means that there is no pool. If all of these were to be overwritten the feature would not be that useful."
   ]
  },
  {
   "cell_type": "markdown",
   "id": "e7f62846",
   "metadata": {},
   "source": [
    "## Fix Datatypes"
   ]
  },
  {
   "cell_type": "code",
   "execution_count": 55,
   "id": "ef0f5e4f",
   "metadata": {
    "ExecuteTime": {
     "end_time": "2023-03-03T03:27:01.315095Z",
     "start_time": "2023-03-03T03:27:01.275037Z"
    }
   },
   "outputs": [],
   "source": [
    "# Change categorical columns to categories\n",
    "ames_truncated[categorical] = ames_truncated[categorical].astype('category')\n",
    "ames_truncated[numerical] = ames_truncated[numerical].astype('int64')"
   ]
  },
  {
   "cell_type": "code",
   "execution_count": 56,
   "id": "4d6382d8",
   "metadata": {
    "ExecuteTime": {
     "end_time": "2023-03-03T03:27:01.593939Z",
     "start_time": "2023-03-03T03:27:01.585821Z"
    }
   },
   "outputs": [
    {
     "data": {
      "text/plain": [
       "True"
      ]
     },
     "execution_count": 56,
     "metadata": {},
     "output_type": "execute_result"
    }
   ],
   "source": [
    "# All existing numerical types are already int\n",
    "all(ames_truncated[numerical].dtypes == 'int64')"
   ]
  },
  {
   "cell_type": "code",
   "execution_count": 57,
   "id": "e2fa0a16",
   "metadata": {
    "ExecuteTime": {
     "end_time": "2023-03-03T03:27:02.121107Z",
     "start_time": "2023-03-03T03:27:02.085010Z"
    }
   },
   "outputs": [],
   "source": [
    "ames_truncated.to_parquet(r'..\\data\\processed\\training_cleaned.parquet')"
   ]
  }
 ],
 "metadata": {
  "hide_input": false,
  "kernelspec": {
   "display_name": "Python 3",
   "language": "python",
   "name": "python3"
  },
  "language_info": {
   "codemirror_mode": {
    "name": "ipython",
    "version": 3
   },
   "file_extension": ".py",
   "mimetype": "text/x-python",
   "name": "python",
   "nbconvert_exporter": "python",
   "pygments_lexer": "ipython3",
   "version": "3.8.8"
  }
 },
 "nbformat": 4,
 "nbformat_minor": 5
}
